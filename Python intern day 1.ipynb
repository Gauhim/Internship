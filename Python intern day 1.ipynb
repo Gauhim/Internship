{
 "cells": [
  {
   "cell_type": "markdown",
   "id": "9946b6e0",
   "metadata": {},
   "source": [
    "# find the factorial of a number"
   ]
  },
  {
   "cell_type": "code",
   "execution_count": 10,
   "id": "79be039e",
   "metadata": {},
   "outputs": [
    {
     "name": "stdout",
     "output_type": "stream",
     "text": [
      "Enter a number : 10\n",
      "The factorial of 10 is 3628800\n"
     ]
    }
   ],
   "source": [
    "n = int(input(\"Enter a number : \"))\n",
    "fact = 1\n",
    "if n < 0:\n",
    "    print(\"This is not a factorial number\")\n",
    "elif n == 0:\n",
    "        print(\"The factorial of 0 is 1\")\n",
    "else :\n",
    "    for i in range(1,n+1):\n",
    "        fact=fact*i\n",
    "    print(\"The factorial of\",n,\"is\",fact)"
   ]
  },
  {
   "cell_type": "markdown",
   "id": "edb2b1d2",
   "metadata": {},
   "source": [
    "# whether a number is prime or composite"
   ]
  },
  {
   "cell_type": "code",
   "execution_count": 16,
   "id": "a83dd9b8",
   "metadata": {
    "scrolled": true
   },
   "outputs": [
    {
     "name": "stdout",
     "output_type": "stream",
     "text": [
      "Enter a number :10\n",
      "10 Not a Prime Number\n"
     ]
    }
   ],
   "source": [
    "n=int(input(\"Enter a number :\"))\n",
    "if (n == 0 or n == 1):\n",
    "    print(n,\"Number is neither prime nor composite\")\n",
    "elif n>1 :\n",
    "    for i in range(2,n):\n",
    "        if(n%i == 0):\n",
    "            print(n,\"Not a Prime Number\")\n",
    "            break\n",
    "else :\n",
    "    print(n,\"Is a Prime Number\")\n",
    "    \n"
   ]
  },
  {
   "cell_type": "markdown",
   "id": "3a71bfdf",
   "metadata": {},
   "source": [
    "# whether a given string is palindrome or not"
   ]
  },
  {
   "cell_type": "code",
   "execution_count": 2,
   "id": "abcf42ba",
   "metadata": {},
   "outputs": [
    {
     "name": "stdout",
     "output_type": "stream",
     "text": [
      "Enter a string: MADAM\n",
      "Is Palindrome\n"
     ]
    }
   ],
   "source": [
    "a=input(\"Enter a string: \")\n",
    "b=a[-1: :-1]\n",
    "if(a == b):\n",
    "    print(\"Is Palindrome\")\n",
    "else:\n",
    "    print(\"Not Palindrome\")\n"
   ]
  },
  {
   "cell_type": "markdown",
   "id": "5a325028",
   "metadata": {},
   "source": [
    "# frequency of each of the characters present in a given string"
   ]
  },
  {
   "cell_type": "code",
   "execution_count": 3,
   "id": "ce91d0d9",
   "metadata": {},
   "outputs": [
    {
     "name": "stdout",
     "output_type": "stream",
     "text": [
      "Enter a string: Hello\n",
      "Character: l\n",
      "Frequency of string is:  1\n"
     ]
    }
   ],
   "source": [
    "a=input(\"Enter a string: \")\n",
    "b=input(\"Character: \")\n",
    "c=0\n",
    "for i in a:\n",
    "    if i == b:\n",
    "        c=c+1\n",
    "        print(\"Frequency of string is: \", c)\n",
    "        break"
   ]
  },
  {
   "cell_type": "markdown",
   "id": "b1f40aa4",
   "metadata": {},
   "source": [
    "# third side of right-angled triangle from two given sides"
   ]
  },
  {
   "cell_type": "code",
   "execution_count": 4,
   "id": "6deada43",
   "metadata": {},
   "outputs": [
    {
     "name": "stdout",
     "output_type": "stream",
     "text": [
      "Enter base: 10\n",
      "Enter height: 20\n",
      "Third side of triangle is:  22.360679774997898\n"
     ]
    }
   ],
   "source": [
    "import math\n",
    "a=float(input(\"Enter base: \"))\n",
    "b=float(input(\"Enter height: \"))\n",
    "c=math.sqrt(a**2+b**2)\n",
    "print(\"Third side of triangle is: \",c)"
   ]
  },
  {
   "cell_type": "code",
   "execution_count": null,
   "id": "33b77ec6",
   "metadata": {},
   "outputs": [],
   "source": []
  }
 ],
 "metadata": {
  "kernelspec": {
   "display_name": "Python 3 (ipykernel)",
   "language": "python",
   "name": "python3"
  },
  "language_info": {
   "codemirror_mode": {
    "name": "ipython",
    "version": 3
   },
   "file_extension": ".py",
   "mimetype": "text/x-python",
   "name": "python",
   "nbconvert_exporter": "python",
   "pygments_lexer": "ipython3",
   "version": "3.9.7"
  }
 },
 "nbformat": 4,
 "nbformat_minor": 5
}
