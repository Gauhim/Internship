{
 "cells": [
  {
   "cell_type": "code",
   "execution_count": 17,
   "id": "50330650",
   "metadata": {},
   "outputs": [
    {
     "name": "stdout",
     "output_type": "stream",
     "text": [
      "Requirement already satisfied: selenium in c:\\users\\hp\\anaconda3\\lib\\site-packages (4.4.3)\n",
      "Requirement already satisfied: certifi>=2021.10.8 in c:\\users\\hp\\anaconda3\\lib\\site-packages (from selenium) (2021.10.8)\n",
      "Requirement already satisfied: trio-websocket~=0.9 in c:\\users\\hp\\anaconda3\\lib\\site-packages (from selenium) (0.9.2)\n",
      "Requirement already satisfied: trio~=0.17 in c:\\users\\hp\\anaconda3\\lib\\site-packages (from selenium) (0.21.0)\n",
      "Requirement already satisfied: urllib3[socks]~=1.26 in c:\\users\\hp\\anaconda3\\lib\\site-packages (from selenium) (1.26.7)\n",
      "Requirement already satisfied: sortedcontainers in c:\\users\\hp\\anaconda3\\lib\\site-packages (from trio~=0.17->selenium) (2.4.0)\n",
      "Requirement already satisfied: cffi>=1.14 in c:\\users\\hp\\anaconda3\\lib\\site-packages (from trio~=0.17->selenium) (1.14.6)\n",
      "Requirement already satisfied: async-generator>=1.9 in c:\\users\\hp\\anaconda3\\lib\\site-packages (from trio~=0.17->selenium) (1.10)\n",
      "Requirement already satisfied: outcome in c:\\users\\hp\\anaconda3\\lib\\site-packages (from trio~=0.17->selenium) (1.2.0)\n",
      "Requirement already satisfied: idna in c:\\users\\hp\\anaconda3\\lib\\site-packages (from trio~=0.17->selenium) (3.2)\n",
      "Requirement already satisfied: sniffio in c:\\users\\hp\\anaconda3\\lib\\site-packages (from trio~=0.17->selenium) (1.2.0)\n",
      "Requirement already satisfied: attrs>=19.2.0 in c:\\users\\hp\\anaconda3\\lib\\site-packages (from trio~=0.17->selenium) (21.2.0)\n",
      "Requirement already satisfied: pycparser in c:\\users\\hp\\anaconda3\\lib\\site-packages (from cffi>=1.14->trio~=0.17->selenium) (2.20)\n",
      "Requirement already satisfied: wsproto>=0.14 in c:\\users\\hp\\anaconda3\\lib\\site-packages (from trio-websocket~=0.9->selenium) (1.1.0)\n",
      "Requirement already satisfied: PySocks!=1.5.7,<2.0,>=1.5.6 in c:\\users\\hp\\anaconda3\\lib\\site-packages (from urllib3[socks]~=1.26->selenium) (1.7.1)\n",
      "Requirement already satisfied: h11<1,>=0.9.0 in c:\\users\\hp\\anaconda3\\lib\\site-packages (from wsproto>=0.14->trio-websocket~=0.9->selenium) (0.13.0)\n"
     ]
    }
   ],
   "source": [
    "!pip install selenium"
   ]
  },
  {
   "cell_type": "code",
   "execution_count": 18,
   "id": "ace7d353",
   "metadata": {},
   "outputs": [],
   "source": [
    "import selenium\n",
    "import pandas as pd\n",
    "from selenium import webdriver\n",
    "import warnings\n",
    "warnings.filterwarnings('ignore')\n",
    "import time\n",
    "from selenium.webdriver.common.by import By"
   ]
  },
  {
   "cell_type": "code",
   "execution_count": 19,
   "id": "deb68715",
   "metadata": {},
   "outputs": [],
   "source": [
    "driver=webdriver.Chrome(r\"C:\\Users\\hp\\Desktop\\Fliprobo\\chromedriver.exe\")"
   ]
  },
  {
   "cell_type": "code",
   "execution_count": 20,
   "id": "24490a38",
   "metadata": {},
   "outputs": [],
   "source": [
    "driver=webdriver.Chrome(r\"chromedriver.exe\")"
   ]
  },
  {
   "cell_type": "code",
   "execution_count": 21,
   "id": "f69c500a",
   "metadata": {},
   "outputs": [],
   "source": [
    "driver.get(\"https://www.bcci.tv/\")"
   ]
  },
  {
   "cell_type": "code",
   "execution_count": 22,
   "id": "6df6abb8",
   "metadata": {},
   "outputs": [],
   "source": [
    "driver.get(\"https://www.bcci.tv/international/fixtures\")"
   ]
  },
  {
   "cell_type": "code",
   "execution_count": 23,
   "id": "8db05b8b",
   "metadata": {},
   "outputs": [],
   "source": [
    "matchtitle=[]\n",
    "matchSeries=[]\n",
    "matchPlace=[]\n",
    "matchDate=[]\n",
    "matchTime=[]"
   ]
  },
  {
   "cell_type": "code",
   "execution_count": 24,
   "id": "8cac88af",
   "metadata": {},
   "outputs": [],
   "source": [
    "title_tags=driver.find_elements(By.XPATH,'//span[@class=\"matchOrderText ng-binding ng-scope\"]')\n",
    "for i in title_tags:\n",
    "    title=i.text\n",
    "    matchtitle.append(title)"
   ]
  },
  {
   "cell_type": "code",
   "execution_count": 25,
   "id": "d8af8640",
   "metadata": {},
   "outputs": [],
   "source": [
    "series_tags=driver.find_elements(By.XPATH,'//span[@class=\"ng-binding\"]')\n",
    "for i in series_tags:\n",
    "    series=i.text\n",
    "    matchSeries.append(series)"
   ]
  },
  {
   "cell_type": "code",
   "execution_count": 26,
   "id": "588767e5",
   "metadata": {},
   "outputs": [],
   "source": [
    "place_tags=driver.find_elements(By.XPATH,'//span[@class=\"ng-binding ng-scope\"]')\n",
    "for i in place_tags:\n",
    "    place=i.text\n",
    "    matchPlace.append(place)"
   ]
  },
  {
   "cell_type": "code",
   "execution_count": 27,
   "id": "86b0e520",
   "metadata": {},
   "outputs": [],
   "source": [
    "date_tags=driver.find_elements(By.XPATH,'//div[@class=\"match-card-left match-schedule\"]')\n",
    "for i in date_tags:\n",
    "    date=i.text\n",
    "    matchDate.append(date)"
   ]
  },
  {
   "cell_type": "code",
   "execution_count": 28,
   "id": "827a7b2b",
   "metadata": {},
   "outputs": [],
   "source": [
    "time_tags=driver.find_elements(By.XPATH,'//h5[@class=\"text-right ng-binding\"]')\n",
    "for i in time_tags:\n",
    "    time=i.text\n",
    "    matchTime.append(time)"
   ]
  },
  {
   "cell_type": "code",
   "execution_count": 29,
   "id": "a05b11c2",
   "metadata": {},
   "outputs": [
    {
     "name": "stdout",
     "output_type": "stream",
     "text": [
      "8 8 8 8 8\n"
     ]
    }
   ],
   "source": [
    "print(len(matchtitle),len(matchSeries),len(matchPlace),len(matchDate),len(matchTime))"
   ]
  },
  {
   "cell_type": "code",
   "execution_count": 30,
   "id": "e1b54fca",
   "metadata": {},
   "outputs": [
    {
     "data": {
      "text/html": [
       "<div>\n",
       "<style scoped>\n",
       "    .dataframe tbody tr th:only-of-type {\n",
       "        vertical-align: middle;\n",
       "    }\n",
       "\n",
       "    .dataframe tbody tr th {\n",
       "        vertical-align: top;\n",
       "    }\n",
       "\n",
       "    .dataframe thead th {\n",
       "        text-align: right;\n",
       "    }\n",
       "</style>\n",
       "<table border=\"1\" class=\"dataframe\">\n",
       "  <thead>\n",
       "    <tr style=\"text-align: right;\">\n",
       "      <th></th>\n",
       "      <th>Title</th>\n",
       "      <th>Series</th>\n",
       "      <th>Place</th>\n",
       "      <th>Date</th>\n",
       "      <th>Time</th>\n",
       "    </tr>\n",
       "  </thead>\n",
       "  <tbody>\n",
       "    <tr>\n",
       "      <th>0</th>\n",
       "      <td>1st T20I -</td>\n",
       "      <td>SOUTH AFRICA TOUR OF INDIA T20 SERIES 2022-23</td>\n",
       "      <td>Greenfield International Stadium,</td>\n",
       "      <td>28 SEP 2022</td>\n",
       "      <td>7:00 PM IST</td>\n",
       "    </tr>\n",
       "    <tr>\n",
       "      <th>1</th>\n",
       "      <td>1st T20I -</td>\n",
       "      <td>ASIA CUP WOMENS 2022</td>\n",
       "      <td>Sylhet Outer Cricket Stadium,</td>\n",
       "      <td>1 OCT 2022</td>\n",
       "      <td>1:00 PM IST</td>\n",
       "    </tr>\n",
       "    <tr>\n",
       "      <th>2</th>\n",
       "      <td>2nd T20I -</td>\n",
       "      <td>SOUTH AFRICA TOUR OF INDIA T20 SERIES 2022-23</td>\n",
       "      <td>Barsapara Cricket Stadium,</td>\n",
       "      <td>2 OCT 2022</td>\n",
       "      <td>7:00 PM IST</td>\n",
       "    </tr>\n",
       "    <tr>\n",
       "      <th>3</th>\n",
       "      <td>2nd T20I -</td>\n",
       "      <td>ASIA CUP WOMENS 2022</td>\n",
       "      <td>Sylhet Outer Cricket Stadium,</td>\n",
       "      <td>3 OCT 2022</td>\n",
       "      <td>1:00 PM IST</td>\n",
       "    </tr>\n",
       "    <tr>\n",
       "      <th>4</th>\n",
       "      <td>3rd T20I -</td>\n",
       "      <td>ASIA CUP WOMENS 2022</td>\n",
       "      <td>Sylhet Outer Cricket Stadium,</td>\n",
       "      <td>4 OCT 2022</td>\n",
       "      <td>1:00 PM IST</td>\n",
       "    </tr>\n",
       "    <tr>\n",
       "      <th>5</th>\n",
       "      <td>3rd T20I -</td>\n",
       "      <td>SOUTH AFRICA TOUR OF INDIA T20 SERIES 2022-23</td>\n",
       "      <td>Holkar Cricket Stadium,</td>\n",
       "      <td>4 OCT 2022</td>\n",
       "      <td>7:00 PM IST</td>\n",
       "    </tr>\n",
       "    <tr>\n",
       "      <th>6</th>\n",
       "      <td>1st ODI -</td>\n",
       "      <td>SOUTH AFRICA TOUR OF INDIA ODI SERIES 2022-23</td>\n",
       "      <td>Bharat Ratna Shri Atal Bihari Vajpayee Ekana C...</td>\n",
       "      <td>6 OCT 2022</td>\n",
       "      <td>1:30 PM IST</td>\n",
       "    </tr>\n",
       "    <tr>\n",
       "      <th>7</th>\n",
       "      <td>4th T20I -</td>\n",
       "      <td>ASIA CUP WOMENS 2022</td>\n",
       "      <td>Sylhet International Cricket Stadium,</td>\n",
       "      <td>7 OCT 2022</td>\n",
       "      <td>1:00 PM IST</td>\n",
       "    </tr>\n",
       "  </tbody>\n",
       "</table>\n",
       "</div>"
      ],
      "text/plain": [
       "        Title                                         Series  \\\n",
       "0  1st T20I -  SOUTH AFRICA TOUR OF INDIA T20 SERIES 2022-23   \n",
       "1  1st T20I -                           ASIA CUP WOMENS 2022   \n",
       "2  2nd T20I -  SOUTH AFRICA TOUR OF INDIA T20 SERIES 2022-23   \n",
       "3  2nd T20I -                           ASIA CUP WOMENS 2022   \n",
       "4  3rd T20I -                           ASIA CUP WOMENS 2022   \n",
       "5  3rd T20I -  SOUTH AFRICA TOUR OF INDIA T20 SERIES 2022-23   \n",
       "6   1st ODI -  SOUTH AFRICA TOUR OF INDIA ODI SERIES 2022-23   \n",
       "7  4th T20I -                           ASIA CUP WOMENS 2022   \n",
       "\n",
       "                                               Place         Date         Time  \n",
       "0                  Greenfield International Stadium,  28 SEP 2022  7:00 PM IST  \n",
       "1                      Sylhet Outer Cricket Stadium,   1 OCT 2022  1:00 PM IST  \n",
       "2                         Barsapara Cricket Stadium,   2 OCT 2022  7:00 PM IST  \n",
       "3                      Sylhet Outer Cricket Stadium,   3 OCT 2022  1:00 PM IST  \n",
       "4                      Sylhet Outer Cricket Stadium,   4 OCT 2022  1:00 PM IST  \n",
       "5                            Holkar Cricket Stadium,   4 OCT 2022  7:00 PM IST  \n",
       "6  Bharat Ratna Shri Atal Bihari Vajpayee Ekana C...   6 OCT 2022  1:30 PM IST  \n",
       "7              Sylhet International Cricket Stadium,   7 OCT 2022  1:00 PM IST  "
      ]
     },
     "execution_count": 30,
     "metadata": {},
     "output_type": "execute_result"
    }
   ],
   "source": [
    "df=pd.DataFrame({'Title':matchtitle,'Series':matchSeries,'Place':matchPlace,'Date':matchDate,'Time':matchTime})\n",
    "df"
   ]
  },
  {
   "cell_type": "code",
   "execution_count": 31,
   "id": "1600fb4f",
   "metadata": {},
   "outputs": [],
   "source": [
    "import selenium\n",
    "import pandas as pd\n",
    "from selenium import webdriver\n",
    "import warnings\n",
    "warnings.filterwarnings('ignore')\n",
    "import time\n",
    "from selenium.webdriver.common.by import By"
   ]
  },
  {
   "cell_type": "code",
   "execution_count": 32,
   "id": "be1d1ac7",
   "metadata": {},
   "outputs": [],
   "source": [
    "driver=webdriver.Chrome(r\"C:\\Users\\hp\\Desktop\\Fliprobo\\chromedriver.exe\")"
   ]
  },
  {
   "cell_type": "code",
   "execution_count": 33,
   "id": "a0af99e3",
   "metadata": {},
   "outputs": [],
   "source": [
    "driver=webdriver.Chrome(r\"chromedriver.exe\")"
   ]
  },
  {
   "cell_type": "code",
   "execution_count": 34,
   "id": "09abd76f",
   "metadata": {},
   "outputs": [],
   "source": [
    "driver.get(\"https://www.theguardian.com/news/datablog/2012/aug/09/best-selling-books-all-time-fifty-shades-grey-compare\")"
   ]
  },
  {
   "cell_type": "code",
   "execution_count": 35,
   "id": "3ac27409",
   "metadata": {},
   "outputs": [],
   "source": [
    "Bookname=[]\n",
    "Authorname=[]\n",
    "Volumessold=[]\n",
    "BookPublisher=[]\n",
    "BookGenre=[]"
   ]
  },
  {
   "cell_type": "code",
   "execution_count": 36,
   "id": "19490c9d",
   "metadata": {},
   "outputs": [],
   "source": [
    "name_tags=driver.find_elements(By.XPATH,'//td[@class=\"left\"]')\n",
    "for i in name_tags:\n",
    "    name=i.text\n",
    "    Bookname.append(name)"
   ]
  },
  {
   "cell_type": "code",
   "execution_count": 38,
   "id": "03fb8908",
   "metadata": {},
   "outputs": [],
   "source": [
    "author_tags=driver.find_elements(By.XPATH,'//td[@class=\"left\"]')\n",
    "for i in author_tags:\n",
    "    author=i.text\n",
    "    Authorname.append(author)"
   ]
  },
  {
   "cell_type": "code",
   "execution_count": 39,
   "id": "a8ecbdd8",
   "metadata": {},
   "outputs": [],
   "source": [
    "volume_tags=driver.find_elements(By.XPATH,'//td[@class=\"left\"]')\n",
    "for i in volume_tags:\n",
    "    volume=i.text\n",
    "    Volumessold.append(volume)"
   ]
  },
  {
   "cell_type": "code",
   "execution_count": 40,
   "id": "621e669c",
   "metadata": {},
   "outputs": [],
   "source": [
    "publisher_tags=driver.find_elements(By.XPATH,'//td[@class=\"left\"]')\n",
    "for i in publisher_tags:\n",
    "    publisher=i.text\n",
    "    BookPublisher.append(publisher)"
   ]
  },
  {
   "cell_type": "code",
   "execution_count": 41,
   "id": "c322446a",
   "metadata": {},
   "outputs": [],
   "source": [
    "genre_tags=driver.find_elements(By.XPATH,'//td[@class=\"last left\"]')\n",
    "for i in genre_tags:\n",
    "    genre=i.text\n",
    "    BookGenre.append(genre)\n"
   ]
  },
  {
   "cell_type": "code",
   "execution_count": 42,
   "id": "68e92e0c",
   "metadata": {},
   "outputs": [
    {
     "name": "stdout",
     "output_type": "stream",
     "text": [
      "500 1000 500 500 100\n"
     ]
    }
   ],
   "source": [
    "print(len(Bookname),len(Authorname),len(Volumessold),len(BookPublisher),len(BookGenre))"
   ]
  },
  {
   "cell_type": "markdown",
   "id": "fa7a853a",
   "metadata": {},
   "source": [
    "# 3. Scrape the details of selenium exception from guru99.com.\n"
   ]
  },
  {
   "cell_type": "code",
   "execution_count": 43,
   "id": "ad08ff92",
   "metadata": {},
   "outputs": [],
   "source": [
    "import selenium\n",
    "import pandas as pd\n",
    "from selenium import webdriver\n",
    "import warnings\n",
    "warnings.filterwarnings('ignore')\n",
    "import time\n",
    "from selenium.webdriver.common.by import By"
   ]
  },
  {
   "cell_type": "code",
   "execution_count": 44,
   "id": "834cd8aa",
   "metadata": {},
   "outputs": [],
   "source": [
    "driver=webdriver.Chrome(r\"C:\\Users\\hp\\Desktop\\Fliprobo\\chromedriver.exe\")"
   ]
  },
  {
   "cell_type": "code",
   "execution_count": 45,
   "id": "1fe9c4bf",
   "metadata": {},
   "outputs": [],
   "source": [
    "driver=webdriver.Chrome(r\"chromedriver.exe\")"
   ]
  },
  {
   "cell_type": "code",
   "execution_count": 46,
   "id": "2ab63926",
   "metadata": {},
   "outputs": [],
   "source": [
    "driver.get(\"https://www.guru99.com/\")"
   ]
  },
  {
   "cell_type": "code",
   "execution_count": 47,
   "id": "daf65265",
   "metadata": {},
   "outputs": [],
   "source": [
    "driver.get(\"https://www.guru99.com/selenium-tutorial.html\")"
   ]
  },
  {
   "cell_type": "code",
   "execution_count": 48,
   "id": "ebfd0aee",
   "metadata": {},
   "outputs": [],
   "source": [
    "driver.get(\"https://www.guru99.com/exception-handling-selenium.html\")"
   ]
  },
  {
   "cell_type": "code",
   "execution_count": 49,
   "id": "df21b090",
   "metadata": {},
   "outputs": [],
   "source": [
    "pagename=[]\n",
    "pagedetail=[]"
   ]
  },
  {
   "cell_type": "code",
   "execution_count": 50,
   "id": "459ea582",
   "metadata": {},
   "outputs": [
    {
     "ename": "InvalidSelectorException",
     "evalue": "Message: invalid selector: Unable to locate an element with the xpath expression //[] because of the following error:\nSyntaxError: Failed to execute 'evaluate' on 'Document': The string '//[]' is not a valid XPath expression.\n  (Session info: chrome=105.0.5195.127)\nStacktrace:\nBacktrace:\n\tOrdinal0 [0x003F78B3+2193587]\n\tOrdinal0 [0x00390681+1771137]\n\tOrdinal0 [0x002A41A8+803240]\n\tOrdinal0 [0x002A6BB4+814004]\n\tOrdinal0 [0x002A6A72+813682]\n\tOrdinal0 [0x002A6D00+814336]\n\tOrdinal0 [0x002D21B5+991669]\n\tOrdinal0 [0x002D273B+993083]\n\tOrdinal0 [0x002FF7FC+1177596]\n\tOrdinal0 [0x002ED7F4+1103860]\n\tOrdinal0 [0x002FDAE2+1170146]\n\tOrdinal0 [0x002ED5C6+1103302]\n\tOrdinal0 [0x002C77E0+948192]\n\tOrdinal0 [0x002C86E6+952038]\n\tGetHandleVerifier [0x006A0CB2+2738370]\n\tGetHandleVerifier [0x006921B8+2678216]\n\tGetHandleVerifier [0x004817AA+512954]\n\tGetHandleVerifier [0x00480856+509030]\n\tOrdinal0 [0x0039743B+1799227]\n\tOrdinal0 [0x0039BB68+1817448]\n\tOrdinal0 [0x0039BC55+1817685]\n\tOrdinal0 [0x003A5230+1856048]\n\tBaseThreadInitThunk [0x756DFA29+25]\n\tRtlGetAppContainerNamedObjectPath [0x775F7B5E+286]\n\tRtlGetAppContainerNamedObjectPath [0x775F7B2E+238]\n",
     "output_type": "error",
     "traceback": [
      "\u001b[1;31m---------------------------------------------------------------------------\u001b[0m",
      "\u001b[1;31mInvalidSelectorException\u001b[0m                  Traceback (most recent call last)",
      "\u001b[1;32m~\\AppData\\Local\\Temp/ipykernel_8496/1737449783.py\u001b[0m in \u001b[0;36m<module>\u001b[1;34m\u001b[0m\n\u001b[1;32m----> 1\u001b[1;33m \u001b[0mname_tags\u001b[0m\u001b[1;33m=\u001b[0m\u001b[0mdriver\u001b[0m\u001b[1;33m.\u001b[0m\u001b[0mfind_elements\u001b[0m\u001b[1;33m(\u001b[0m\u001b[0mBy\u001b[0m\u001b[1;33m.\u001b[0m\u001b[0mXPATH\u001b[0m\u001b[1;33m,\u001b[0m\u001b[1;34m'//[]'\u001b[0m\u001b[1;33m)\u001b[0m\u001b[1;33m\u001b[0m\u001b[1;33m\u001b[0m\u001b[0m\n\u001b[0m",
      "\u001b[1;32m~\\anaconda3\\lib\\site-packages\\selenium\\webdriver\\remote\\webdriver.py\u001b[0m in \u001b[0;36mfind_elements\u001b[1;34m(self, by, value)\u001b[0m\n\u001b[0;32m    886\u001b[0m         \u001b[1;31m# Return empty list if driver returns null\u001b[0m\u001b[1;33m\u001b[0m\u001b[1;33m\u001b[0m\u001b[0m\n\u001b[0;32m    887\u001b[0m         \u001b[1;31m# See https://github.com/SeleniumHQ/selenium/issues/4555\u001b[0m\u001b[1;33m\u001b[0m\u001b[1;33m\u001b[0m\u001b[0m\n\u001b[1;32m--> 888\u001b[1;33m         return self.execute(Command.FIND_ELEMENTS, {\n\u001b[0m\u001b[0;32m    889\u001b[0m             \u001b[1;34m'using'\u001b[0m\u001b[1;33m:\u001b[0m \u001b[0mby\u001b[0m\u001b[1;33m,\u001b[0m\u001b[1;33m\u001b[0m\u001b[1;33m\u001b[0m\u001b[0m\n\u001b[0;32m    890\u001b[0m             'value': value})['value'] or []\n",
      "\u001b[1;32m~\\anaconda3\\lib\\site-packages\\selenium\\webdriver\\remote\\webdriver.py\u001b[0m in \u001b[0;36mexecute\u001b[1;34m(self, driver_command, params)\u001b[0m\n\u001b[0;32m    426\u001b[0m         \u001b[0mresponse\u001b[0m \u001b[1;33m=\u001b[0m \u001b[0mself\u001b[0m\u001b[1;33m.\u001b[0m\u001b[0mcommand_executor\u001b[0m\u001b[1;33m.\u001b[0m\u001b[0mexecute\u001b[0m\u001b[1;33m(\u001b[0m\u001b[0mdriver_command\u001b[0m\u001b[1;33m,\u001b[0m \u001b[0mparams\u001b[0m\u001b[1;33m)\u001b[0m\u001b[1;33m\u001b[0m\u001b[1;33m\u001b[0m\u001b[0m\n\u001b[0;32m    427\u001b[0m         \u001b[1;32mif\u001b[0m \u001b[0mresponse\u001b[0m\u001b[1;33m:\u001b[0m\u001b[1;33m\u001b[0m\u001b[1;33m\u001b[0m\u001b[0m\n\u001b[1;32m--> 428\u001b[1;33m             \u001b[0mself\u001b[0m\u001b[1;33m.\u001b[0m\u001b[0merror_handler\u001b[0m\u001b[1;33m.\u001b[0m\u001b[0mcheck_response\u001b[0m\u001b[1;33m(\u001b[0m\u001b[0mresponse\u001b[0m\u001b[1;33m)\u001b[0m\u001b[1;33m\u001b[0m\u001b[1;33m\u001b[0m\u001b[0m\n\u001b[0m\u001b[0;32m    429\u001b[0m             response['value'] = self._unwrap_value(\n\u001b[0;32m    430\u001b[0m                 response.get('value', None))\n",
      "\u001b[1;32m~\\anaconda3\\lib\\site-packages\\selenium\\webdriver\\remote\\errorhandler.py\u001b[0m in \u001b[0;36mcheck_response\u001b[1;34m(self, response)\u001b[0m\n\u001b[0;32m    241\u001b[0m                 \u001b[0malert_text\u001b[0m \u001b[1;33m=\u001b[0m \u001b[0mvalue\u001b[0m\u001b[1;33m[\u001b[0m\u001b[1;34m'alert'\u001b[0m\u001b[1;33m]\u001b[0m\u001b[1;33m.\u001b[0m\u001b[0mget\u001b[0m\u001b[1;33m(\u001b[0m\u001b[1;34m'text'\u001b[0m\u001b[1;33m)\u001b[0m\u001b[1;33m\u001b[0m\u001b[1;33m\u001b[0m\u001b[0m\n\u001b[0;32m    242\u001b[0m             \u001b[1;32mraise\u001b[0m \u001b[0mexception_class\u001b[0m\u001b[1;33m(\u001b[0m\u001b[0mmessage\u001b[0m\u001b[1;33m,\u001b[0m \u001b[0mscreen\u001b[0m\u001b[1;33m,\u001b[0m \u001b[0mstacktrace\u001b[0m\u001b[1;33m,\u001b[0m \u001b[0malert_text\u001b[0m\u001b[1;33m)\u001b[0m  \u001b[1;31m# type: ignore[call-arg]  # mypy is not smart enough here\u001b[0m\u001b[1;33m\u001b[0m\u001b[1;33m\u001b[0m\u001b[0m\n\u001b[1;32m--> 243\u001b[1;33m         \u001b[1;32mraise\u001b[0m \u001b[0mexception_class\u001b[0m\u001b[1;33m(\u001b[0m\u001b[0mmessage\u001b[0m\u001b[1;33m,\u001b[0m \u001b[0mscreen\u001b[0m\u001b[1;33m,\u001b[0m \u001b[0mstacktrace\u001b[0m\u001b[1;33m)\u001b[0m\u001b[1;33m\u001b[0m\u001b[1;33m\u001b[0m\u001b[0m\n\u001b[0m",
      "\u001b[1;31mInvalidSelectorException\u001b[0m: Message: invalid selector: Unable to locate an element with the xpath expression //[] because of the following error:\nSyntaxError: Failed to execute 'evaluate' on 'Document': The string '//[]' is not a valid XPath expression.\n  (Session info: chrome=105.0.5195.127)\nStacktrace:\nBacktrace:\n\tOrdinal0 [0x003F78B3+2193587]\n\tOrdinal0 [0x00390681+1771137]\n\tOrdinal0 [0x002A41A8+803240]\n\tOrdinal0 [0x002A6BB4+814004]\n\tOrdinal0 [0x002A6A72+813682]\n\tOrdinal0 [0x002A6D00+814336]\n\tOrdinal0 [0x002D21B5+991669]\n\tOrdinal0 [0x002D273B+993083]\n\tOrdinal0 [0x002FF7FC+1177596]\n\tOrdinal0 [0x002ED7F4+1103860]\n\tOrdinal0 [0x002FDAE2+1170146]\n\tOrdinal0 [0x002ED5C6+1103302]\n\tOrdinal0 [0x002C77E0+948192]\n\tOrdinal0 [0x002C86E6+952038]\n\tGetHandleVerifier [0x006A0CB2+2738370]\n\tGetHandleVerifier [0x006921B8+2678216]\n\tGetHandleVerifier [0x004817AA+512954]\n\tGetHandleVerifier [0x00480856+509030]\n\tOrdinal0 [0x0039743B+1799227]\n\tOrdinal0 [0x0039BB68+1817448]\n\tOrdinal0 [0x0039BC55+1817685]\n\tOrdinal0 [0x003A5230+1856048]\n\tBaseThreadInitThunk [0x756DFA29+25]\n\tRtlGetAppContainerNamedObjectPath [0x775F7B5E+286]\n\tRtlGetAppContainerNamedObjectPath [0x775F7B2E+238]\n"
     ]
    }
   ],
   "source": [
    "name_tags=driver.find_elements(By.XPATH,'//[]')"
   ]
  },
  {
   "cell_type": "code",
   "execution_count": 51,
   "id": "1a3eadc5",
   "metadata": {},
   "outputs": [],
   "source": [
    "detail_tags=driver.find_elements(By.XPATH,'//div[@class= \"entry-content single-content\"]')\n",
    "for i in detail_tags:\n",
    "    detail=i.text\n",
    "    pagedetail.append(detail)"
   ]
  },
  {
   "cell_type": "markdown",
   "id": "f713e7a4",
   "metadata": {},
   "source": [
    "# Scrape the details of State-wise GDP of India from statisticstime.com."
   ]
  },
  {
   "cell_type": "code",
   "execution_count": 52,
   "id": "ad9b6a5d",
   "metadata": {},
   "outputs": [],
   "source": [
    "import selenium\n",
    "import pandas as pd\n",
    "from selenium import webdriver\n",
    "import warnings\n",
    "warnings.filterwarnings('ignore')\n",
    "import time\n",
    "from selenium.webdriver.common.by import By"
   ]
  },
  {
   "cell_type": "code",
   "execution_count": 53,
   "id": "bbc51305",
   "metadata": {},
   "outputs": [],
   "source": [
    "driver=webdriver.Chrome(r\"C:\\Users\\hp\\Desktop\\Fliprobo\\chromedriver.exe\")"
   ]
  },
  {
   "cell_type": "code",
   "execution_count": 54,
   "id": "b4b16863",
   "metadata": {},
   "outputs": [],
   "source": [
    "driver=webdriver.Chrome(r\"chromedriver.exe\")"
   ]
  },
  {
   "cell_type": "code",
   "execution_count": 55,
   "id": "b4ab794d",
   "metadata": {},
   "outputs": [],
   "source": [
    "driver.get(\"http://statisticstimes.com/\")"
   ]
  },
  {
   "cell_type": "code",
   "execution_count": 56,
   "id": "5622cf39",
   "metadata": {},
   "outputs": [],
   "source": [
    "driver.get(\"https://www.statisticstimes.com/economy/india-statistics.php\")"
   ]
  },
  {
   "cell_type": "code",
   "execution_count": 57,
   "id": "85a621d3",
   "metadata": {},
   "outputs": [],
   "source": [
    "driver.get(\"https://www.statisticstimes.com/economy/india/indian-states-gdp.php\")"
   ]
  },
  {
   "cell_type": "code",
   "execution_count": 58,
   "id": "82184b83",
   "metadata": {},
   "outputs": [],
   "source": [
    "staterank=[]\n",
    "stategsdp18=[]\n",
    "stategsdp19=[]\n",
    "stateshare=[]\n",
    "stategdp=[]"
   ]
  },
  {
   "cell_type": "code",
   "execution_count": 59,
   "id": "13824c6e",
   "metadata": {},
   "outputs": [],
   "source": [
    "rank_tags=driver.find_elements(By.XPATH,'//td[@class=\"data1\"]')\n",
    "for i in rank_tags:\n",
    "    rank=i.text\n",
    "    staterank.append(rank)"
   ]
  },
  {
   "cell_type": "code",
   "execution_count": 60,
   "id": "7f1608e1",
   "metadata": {},
   "outputs": [],
   "source": [
    "gsdp18_tags=driver.find_elements(By.XPATH,'//td[@class=\"data\"]')\n",
    "for i in gsdp18_tags:\n",
    "    gsdp18=i.text\n",
    "    stategsdp18.append(gsdp18)"
   ]
  },
  {
   "cell_type": "code",
   "execution_count": 61,
   "id": "859836e8",
   "metadata": {},
   "outputs": [],
   "source": [
    "gsdp19_tags=driver.find_elements(By.XPATH,'//td[@class=\"data\"]')\n",
    "for i in gsdp19_tags:\n",
    "    gsdp19=i.text\n",
    "    stategsdp19.append(gsdp19)"
   ]
  },
  {
   "cell_type": "code",
   "execution_count": 62,
   "id": "007eaeeb",
   "metadata": {},
   "outputs": [],
   "source": [
    "share_tags=driver.find_elements(By.XPATH,'//td[@class=\"data sorting_1\"]')\n",
    "for i in share_tags:\n",
    "    share=i.text\n",
    "    stateshare.append(share)                               "
   ]
  },
  {
   "cell_type": "code",
   "execution_count": 63,
   "id": "60453d05",
   "metadata": {},
   "outputs": [],
   "source": [
    "gdp_tags=driver.find_elements(By.XPATH,'//td[@class=\"data\"]')\n",
    "for i in gdp_tags:\n",
    "    gdp=i.text\n",
    "    stategdp.append(gdp)"
   ]
  },
  {
   "cell_type": "code",
   "execution_count": 64,
   "id": "9a4ce8ce",
   "metadata": {},
   "outputs": [
    {
     "name": "stdout",
     "output_type": "stream",
     "text": [
      "68 308 308 66 308\n"
     ]
    }
   ],
   "source": [
    "print(len(staterank),len(stategsdp18),len(stategsdp19),len(stateshare),len(stategdp))"
   ]
  },
  {
   "cell_type": "markdown",
   "id": "717927f3",
   "metadata": {},
   "source": [
    "# Scrape the details of trending repositories on Github.com"
   ]
  },
  {
   "cell_type": "code",
   "execution_count": 65,
   "id": "31736c8d",
   "metadata": {},
   "outputs": [],
   "source": [
    "import selenium\n",
    "import pandas as pd\n",
    "from selenium import webdriver\n",
    "import warnings\n",
    "warnings.filterwarnings('ignore')\n",
    "import time\n",
    "from selenium.webdriver.common.by import By"
   ]
  },
  {
   "cell_type": "code",
   "execution_count": 66,
   "id": "10116c6d",
   "metadata": {},
   "outputs": [],
   "source": [
    "driver=webdriver.Chrome(r\"C:\\Users\\hp\\Desktop\\Fliprobo\\chromedriver.exe\")"
   ]
  },
  {
   "cell_type": "code",
   "execution_count": 67,
   "id": "d1027a1c",
   "metadata": {},
   "outputs": [],
   "source": [
    "driver=webdriver.Chrome(r\"chromedriver.exe\")"
   ]
  },
  {
   "cell_type": "code",
   "execution_count": 68,
   "id": "dcb78460",
   "metadata": {},
   "outputs": [],
   "source": [
    "driver.get(\"https://github.com/\")"
   ]
  },
  {
   "cell_type": "code",
   "execution_count": 69,
   "id": "2bbf19ad",
   "metadata": {},
   "outputs": [],
   "source": [
    "driver.get(\"https://github.com/trending\")"
   ]
  },
  {
   "cell_type": "code",
   "execution_count": 70,
   "id": "39d78a39",
   "metadata": {},
   "outputs": [],
   "source": [
    "rtitle=[]\n",
    "rdescription=[]\n",
    "ccount=[]\n",
    "Languageused=[]"
   ]
  },
  {
   "cell_type": "markdown",
   "id": "8065a46c",
   "metadata": {},
   "source": [
    "title_tags=driver.find_elements(By.XPATH,'//span[@class=\"text-normal\"]')\n",
    "for i in title_tags:\n",
    "    title=i.text\n",
    "    rtitle.append(title)"
   ]
  },
  {
   "cell_type": "code",
   "execution_count": 71,
   "id": "36b24fce",
   "metadata": {},
   "outputs": [],
   "source": [
    "desc_tags=driver.find_elements(By.XPATH,'//p[@class=\"col-9 color-fg-muted my-1 pr-4\"]')\n",
    "for i in desc_tags:\n",
    "    descrip=i.text\n",
    "    rdescription.append(descrip)"
   ]
  },
  {
   "cell_type": "code",
   "execution_count": 72,
   "id": "8fdb7c28",
   "metadata": {},
   "outputs": [],
   "source": [
    "cont_tags=driver.find_elements(By.XPATH,'//a[@class=\"Link--muted d-inline-block mr-3\"]')\n",
    "for i in cont_tags:\n",
    "    count=i.text\n",
    "    ccount.append(count)"
   ]
  },
  {
   "cell_type": "code",
   "execution_count": 73,
   "id": "33d8ec52",
   "metadata": {},
   "outputs": [],
   "source": [
    "lang_tags=driver.find_elements(By.XPATH,'//span[@class=\"d-inline-block ml-0 mr-3\"]')\n",
    "for i in lang_tags:\n",
    "    language=i.text\n",
    "    Languageused.append(language)"
   ]
  },
  {
   "cell_type": "code",
   "execution_count": 74,
   "id": "f3affa84",
   "metadata": {},
   "outputs": [
    {
     "name": "stdout",
     "output_type": "stream",
     "text": [
      "0 24 50 20\n"
     ]
    }
   ],
   "source": [
    "print(len(rtitle),len(rdescription),len(ccount),len(Languageused))"
   ]
  },
  {
   "cell_type": "markdown",
   "id": "efb94491",
   "metadata": {},
   "source": [
    "# Scrape the details of top 100 songs on billiboard.com"
   ]
  },
  {
   "cell_type": "code",
   "execution_count": 75,
   "id": "df5878e1",
   "metadata": {},
   "outputs": [],
   "source": [
    "import selenium\n",
    "import pandas as pd\n",
    "from selenium import webdriver\n",
    "import warnings\n",
    "warnings.filterwarnings('ignore')\n",
    "import time\n",
    "from selenium.webdriver.common.by import By"
   ]
  },
  {
   "cell_type": "code",
   "execution_count": 76,
   "id": "551d4357",
   "metadata": {},
   "outputs": [],
   "source": [
    "driver=webdriver.Chrome(r\"C:\\Users\\hp\\Desktop\\Fliprobo\\chromedriver.exe\")"
   ]
  },
  {
   "cell_type": "code",
   "execution_count": 77,
   "id": "f4853c2a",
   "metadata": {},
   "outputs": [],
   "source": [
    "driver=webdriver.Chrome(r\"chromedriver.exe\")"
   ]
  },
  {
   "cell_type": "code",
   "execution_count": 78,
   "id": "dbd0f0c5",
   "metadata": {},
   "outputs": [],
   "source": [
    "driver.get(\"https:/www.billboard.com/\")"
   ]
  },
  {
   "cell_type": "code",
   "execution_count": 79,
   "id": "6599b28f",
   "metadata": {},
   "outputs": [],
   "source": [
    "driver.get(\"https://www.billboard.com/charts\")"
   ]
  },
  {
   "cell_type": "code",
   "execution_count": 80,
   "id": "3d0f040a",
   "metadata": {},
   "outputs": [],
   "source": [
    "driver.get(\"https://www.billboard.com/charts/hot-100\")"
   ]
  },
  {
   "cell_type": "code",
   "execution_count": 81,
   "id": "34f9a86a",
   "metadata": {},
   "outputs": [],
   "source": [
    "Artname=[]\n",
    "weekrank=[]\n",
    "Peakrank=[]\n",
    "Weeks=[]"
   ]
  },
  {
   "cell_type": "code",
   "execution_count": 82,
   "id": "c7ac1365",
   "metadata": {},
   "outputs": [],
   "source": [
    "name_tags=driver.find_elements(By.XPATH,'//span[@class=\"c-label  a-no-trucate a-font-primary-s lrv-u-font-size-14@mobile-max u-line-height-normal@mobile-max u-letter-spacing-0021 lrv-u-display-block a-truncate-ellipsis-2line u-max-width-330 u-max-width-230@tablet-only u-font-size-20@tablet\"]')\n",
    "for i in name_tags:\n",
    "    aname=i.text\n",
    "    Artname.append(aname)"
   ]
  },
  {
   "cell_type": "code",
   "execution_count": 83,
   "id": "eccfc153",
   "metadata": {},
   "outputs": [],
   "source": [
    "wrank_tags=driver.find_elements(By.XPATH,'//span[@class=\"c-label  a-font-primary-bold-l a-font-primary-m@mobile-max u-font-weight-normal@mobile-max lrv-u-padding-tb-050@mobile-max u-font-size-32@tablet\"]')\n",
    "for i in wrank_tags:\n",
    "    weera=i.text\n",
    "    weekrank.append(weera)"
   ]
  },
  {
   "cell_type": "code",
   "execution_count": 84,
   "id": "cfaa1b85",
   "metadata": {},
   "outputs": [],
   "source": [
    "prank_tags=driver.find_elements(By.XPATH,'//span[@class=\"c-label  a-font-primary-bold-l a-font-primary-m@mobile-max u-font-weight-normal@mobile-max lrv-u-padding-tb-050@mobile-max u-font-size-32@tablet\"]')\n",
    "for i in prank_tags:\n",
    "    pera=i.text\n",
    "    Peakrank.append(pera)"
   ]
  },
  {
   "cell_type": "code",
   "execution_count": 85,
   "id": "1c0f8bba",
   "metadata": {},
   "outputs": [],
   "source": [
    "wk_tags=driver.find_elements(By.XPATH,'//span[@class=\"c-label  a-font-primary-bold-l a-font-primary-m@mobile-max u-font-weight-normal@mobile-max lrv-u-padding-tb-050@mobile-max u-font-size-32@tablet\"]')\n",
    "for i in wk_tags:\n",
    "    week=i.text\n",
    "    Weeks.append(week)"
   ]
  },
  {
   "cell_type": "code",
   "execution_count": 86,
   "id": "6e5402ad",
   "metadata": {},
   "outputs": [
    {
     "name": "stdout",
     "output_type": "stream",
     "text": [
      "1 6 6 6\n"
     ]
    }
   ],
   "source": [
    "print(len(Artname),len(weekrank),len(Peakrank),len(Weeks))"
   ]
  },
  {
   "cell_type": "markdown",
   "id": "9ff16bd0",
   "metadata": {},
   "source": [
    "# Scrape the details most watched tv series of all time from imdb.com"
   ]
  },
  {
   "cell_type": "code",
   "execution_count": 87,
   "id": "a8dba4b2",
   "metadata": {},
   "outputs": [],
   "source": [
    "import selenium\n",
    "import pandas as pd\n",
    "from selenium import webdriver\n",
    "import warnings\n",
    "warnings.filterwarnings('ignore')\n",
    "import time\n",
    "from selenium.webdriver.common.by import By"
   ]
  },
  {
   "cell_type": "code",
   "execution_count": 88,
   "id": "a788e756",
   "metadata": {},
   "outputs": [],
   "source": [
    "driver=webdriver.Chrome(r\"C:\\Users\\hp\\Desktop\\Fliprobo\\chromedriver.exe\")"
   ]
  },
  {
   "cell_type": "code",
   "execution_count": 89,
   "id": "343b8ce2",
   "metadata": {},
   "outputs": [],
   "source": [
    "driver=webdriver.Chrome(r\"chromedriver.exe\")"
   ]
  },
  {
   "cell_type": "code",
   "execution_count": 90,
   "id": "c08d16c9",
   "metadata": {},
   "outputs": [],
   "source": [
    "driver.get(\"https://www.imdb.com/list/ls095964455/\")"
   ]
  },
  {
   "cell_type": "code",
   "execution_count": 91,
   "id": "c0395490",
   "metadata": {},
   "outputs": [],
   "source": [
    "seriesname=[]\n",
    "Yearspan=[]\n",
    "seriesgenre=[]\n",
    "seriesruntime=[]\n",
    "seriesratings=[]\n",
    "seriesvotes=[]"
   ]
  },
  {
   "cell_type": "code",
   "execution_count": 92,
   "id": "849ee306",
   "metadata": {},
   "outputs": [],
   "source": [
    "sname_tags=driver.find_elements(By.XPATH,'//h3[@class=\"lister-item-header\"]')\n",
    "for i in sname_tags:\n",
    "    name=i.text\n",
    "    seriesname.append(name)"
   ]
  },
  {
   "cell_type": "code",
   "execution_count": 93,
   "id": "aa8f76b8",
   "metadata": {},
   "outputs": [],
   "source": [
    "yspan_tags=driver.find_elements(By.XPATH,'//span[@class=\"lister-item-year text-muted unbold\"]')\n",
    "for i in yspan_tags:\n",
    "    span=i.text\n",
    "    Yearspan.append(span)"
   ]
  },
  {
   "cell_type": "code",
   "execution_count": 94,
   "id": "821b6c2a",
   "metadata": {},
   "outputs": [],
   "source": [
    "sgenre_tags=driver.find_elements(By.XPATH,'//span[@class=\"genre\"]')\n",
    "for i in sgenre_tags:\n",
    "    genre=i.text\n",
    "    seriesgenre.append(genre)"
   ]
  },
  {
   "cell_type": "code",
   "execution_count": 95,
   "id": "de407ab1",
   "metadata": {},
   "outputs": [],
   "source": [
    "sruntime_tags=driver.find_elements(By.XPATH,'//span[@class=\"runtime\"]')\n",
    "for i in sruntime_tags:\n",
    "    runtime=i.text\n",
    "    seriesruntime.append(runtime)"
   ]
  },
  {
   "cell_type": "code",
   "execution_count": 96,
   "id": "4fba15b8",
   "metadata": {},
   "outputs": [],
   "source": [
    "srating_tags=driver.find_elements(By.XPATH,'//span[@class=\"ipl-rating-star__rating\"]')\n",
    "for i in srating_tags:\n",
    "    ratings=i.text\n",
    "    seriesratings.append(ratings)"
   ]
  },
  {
   "cell_type": "code",
   "execution_count": 97,
   "id": "f57bb6d5",
   "metadata": {},
   "outputs": [],
   "source": [
    "svote_tags=driver.find_elements(By.XPATH,'//p[@class=\"text-muted text-small\"]')\n",
    "for i in svote_tags:\n",
    "    votes=i.text\n",
    "    seriesvotes.append(votes)"
   ]
  },
  {
   "cell_type": "code",
   "execution_count": 98,
   "id": "a6a752c8",
   "metadata": {},
   "outputs": [
    {
     "name": "stdout",
     "output_type": "stream",
     "text": [
      "100 100 100 100 2300 300\n"
     ]
    }
   ],
   "source": [
    "print(len(seriesname),len(Yearspan),len(seriesgenre),len(seriesruntime),len(seriesratings),len(seriesvotes))"
   ]
  },
  {
   "cell_type": "markdown",
   "id": "f3e70e5a",
   "metadata": {},
   "source": [
    "# Details of Datasets from UCI machine learning repositories"
   ]
  },
  {
   "cell_type": "code",
   "execution_count": 99,
   "id": "6ee65ca6",
   "metadata": {},
   "outputs": [],
   "source": [
    "import selenium\n",
    "import pandas as pd\n",
    "from selenium import webdriver\n",
    "import warnings\n",
    "warnings.filterwarnings('ignore')\n",
    "import time\n",
    "from selenium.webdriver.common.by import By"
   ]
  },
  {
   "cell_type": "code",
   "execution_count": 100,
   "id": "979c254f",
   "metadata": {},
   "outputs": [],
   "source": [
    "driver=webdriver.Chrome(r\"C:\\Users\\hp\\Desktop\\Fliprobo\\chromedriver.exe\")"
   ]
  },
  {
   "cell_type": "code",
   "execution_count": 101,
   "id": "93dcf6ae",
   "metadata": {},
   "outputs": [],
   "source": [
    "driver=webdriver.Chrome(r\"chromedriver.exe\")"
   ]
  },
  {
   "cell_type": "code",
   "execution_count": 102,
   "id": "110601dd",
   "metadata": {},
   "outputs": [],
   "source": [
    "driver.get(\"https://archive.ics.uci.edu/\")"
   ]
  },
  {
   "cell_type": "code",
   "execution_count": 103,
   "id": "556ba808",
   "metadata": {},
   "outputs": [],
   "source": [
    "driver.get(\"https://archive.ics.uci.edu/ml/datasets.php\")"
   ]
  },
  {
   "cell_type": "code",
   "execution_count": 104,
   "id": "97e34229",
   "metadata": {},
   "outputs": [],
   "source": [
    "Datasetname=[]\n",
    "Datatype=[]\n",
    "Datatask=[]\n",
    "Attributetype=[]\n",
    "Noofinstances=[]\n",
    "Noofattribute=[]\n",
    "Datayear=[]"
   ]
  },
  {
   "cell_type": "code",
   "execution_count": 105,
   "id": "a4189951",
   "metadata": {},
   "outputs": [],
   "source": [
    "dataset_tags=driver.find_elements(By.XPATH,'//p[@class=\"normal\"]')\n",
    "for i in dataset_tags:\n",
    "    name=i.text\n",
    "    Datasetname.append(name)"
   ]
  },
  {
   "cell_type": "code",
   "execution_count": 106,
   "id": "dfd9eaad",
   "metadata": {},
   "outputs": [],
   "source": [
    "dtype_tags=driver.find_elements(By.XPATH,'//p[@class=\"normal\"]')\n",
    "for i in dtype_tags:\n",
    "    data=i.text\n",
    "    Datatype.append(data)"
   ]
  },
  {
   "cell_type": "code",
   "execution_count": 107,
   "id": "b5fd8983",
   "metadata": {},
   "outputs": [],
   "source": [
    "dtask_tags=driver.find_elements(By.XPATH,'//p[@class=\"normal\"]')\n",
    "for i in dtask_tags:\n",
    "    task=i.text\n",
    "    Datatask.append(task)"
   ]
  },
  {
   "cell_type": "code",
   "execution_count": 108,
   "id": "4073b5b8",
   "metadata": {},
   "outputs": [],
   "source": [
    "atype_tags=driver.find_elements(By.XPATH,'//p[@class=\"normal\"]')\n",
    "for i in atype_tags:\n",
    "    attr=i.text\n",
    "    Attributetype.append(attr)"
   ]
  },
  {
   "cell_type": "code",
   "execution_count": 109,
   "id": "26d6aecc",
   "metadata": {},
   "outputs": [],
   "source": [
    "nostance__tags=driver.find_elements(By.XPATH,'//p[@class=\"normal\"]')\n",
    "for i in nostance__tags:\n",
    "    nos=i.text\n",
    "    Noofinstances.append(nos)"
   ]
  },
  {
   "cell_type": "code",
   "execution_count": 110,
   "id": "93b436b7",
   "metadata": {},
   "outputs": [],
   "source": [
    "noattr_tags=driver.find_elements(By.XPATH,'//p[@class=\"normal\"]')\n",
    "for i in noattr_tags:\n",
    "    noa=i.text\n",
    "    Noofattribute.append(noa)"
   ]
  },
  {
   "cell_type": "code",
   "execution_count": 111,
   "id": "254b13b2",
   "metadata": {},
   "outputs": [],
   "source": [
    "dyear_tags=driver.find_elements(By.XPATH,'//p[@class=\"normal\"]')\n",
    "for i in dyear_tags:\n",
    "    year=i.text\n",
    "    Datayear.append(year)"
   ]
  },
  {
   "cell_type": "code",
   "execution_count": 112,
   "id": "88ca3d99",
   "metadata": {},
   "outputs": [
    {
     "name": "stdout",
     "output_type": "stream",
     "text": [
      "4364 4364 4364 4364 4364 4364 4364\n"
     ]
    }
   ],
   "source": [
    "print(len(Datasetname),len(Datatype),len(Datatask),len(Attributetype),len(Noofinstances),len(Noofattribute),len(Datayear))"
   ]
  },
  {
   "cell_type": "code",
   "execution_count": 113,
   "id": "5e792129",
   "metadata": {},
   "outputs": [
    {
     "data": {
      "text/html": [
       "<div>\n",
       "<style scoped>\n",
       "    .dataframe tbody tr th:only-of-type {\n",
       "        vertical-align: middle;\n",
       "    }\n",
       "\n",
       "    .dataframe tbody tr th {\n",
       "        vertical-align: top;\n",
       "    }\n",
       "\n",
       "    .dataframe thead th {\n",
       "        text-align: right;\n",
       "    }\n",
       "</style>\n",
       "<table border=\"1\" class=\"dataframe\">\n",
       "  <thead>\n",
       "    <tr style=\"text-align: right;\">\n",
       "      <th></th>\n",
       "      <th>Name</th>\n",
       "      <th>Type</th>\n",
       "      <th>Task</th>\n",
       "      <th>Attri_type</th>\n",
       "      <th>#instances</th>\n",
       "      <th>#attribute</th>\n",
       "      <th>Year</th>\n",
       "    </tr>\n",
       "  </thead>\n",
       "  <tbody>\n",
       "    <tr>\n",
       "      <th>0</th>\n",
       "      <td>Classification (466)\\nRegression (151)\\nCluste...</td>\n",
       "      <td>Classification (466)\\nRegression (151)\\nCluste...</td>\n",
       "      <td>Classification (466)\\nRegression (151)\\nCluste...</td>\n",
       "      <td>Classification (466)\\nRegression (151)\\nCluste...</td>\n",
       "      <td>Classification (466)\\nRegression (151)\\nCluste...</td>\n",
       "      <td>Classification (466)\\nRegression (151)\\nCluste...</td>\n",
       "      <td>Classification (466)\\nRegression (151)\\nCluste...</td>\n",
       "    </tr>\n",
       "    <tr>\n",
       "      <th>1</th>\n",
       "      <td>Categorical (38)\\nNumerical (422)\\nMixed (55)</td>\n",
       "      <td>Categorical (38)\\nNumerical (422)\\nMixed (55)</td>\n",
       "      <td>Categorical (38)\\nNumerical (422)\\nMixed (55)</td>\n",
       "      <td>Categorical (38)\\nNumerical (422)\\nMixed (55)</td>\n",
       "      <td>Categorical (38)\\nNumerical (422)\\nMixed (55)</td>\n",
       "      <td>Categorical (38)\\nNumerical (422)\\nMixed (55)</td>\n",
       "      <td>Categorical (38)\\nNumerical (422)\\nMixed (55)</td>\n",
       "    </tr>\n",
       "    <tr>\n",
       "      <th>2</th>\n",
       "      <td>Multivariate (480)\\nUnivariate (30)\\nSequentia...</td>\n",
       "      <td>Multivariate (480)\\nUnivariate (30)\\nSequentia...</td>\n",
       "      <td>Multivariate (480)\\nUnivariate (30)\\nSequentia...</td>\n",
       "      <td>Multivariate (480)\\nUnivariate (30)\\nSequentia...</td>\n",
       "      <td>Multivariate (480)\\nUnivariate (30)\\nSequentia...</td>\n",
       "      <td>Multivariate (480)\\nUnivariate (30)\\nSequentia...</td>\n",
       "      <td>Multivariate (480)\\nUnivariate (30)\\nSequentia...</td>\n",
       "    </tr>\n",
       "    <tr>\n",
       "      <th>3</th>\n",
       "      <td>Life Sciences (147)\\nPhysical Sciences (57)\\nC...</td>\n",
       "      <td>Life Sciences (147)\\nPhysical Sciences (57)\\nC...</td>\n",
       "      <td>Life Sciences (147)\\nPhysical Sciences (57)\\nC...</td>\n",
       "      <td>Life Sciences (147)\\nPhysical Sciences (57)\\nC...</td>\n",
       "      <td>Life Sciences (147)\\nPhysical Sciences (57)\\nC...</td>\n",
       "      <td>Life Sciences (147)\\nPhysical Sciences (57)\\nC...</td>\n",
       "      <td>Life Sciences (147)\\nPhysical Sciences (57)\\nC...</td>\n",
       "    </tr>\n",
       "    <tr>\n",
       "      <th>4</th>\n",
       "      <td>Less than 10 (166)\\n10 to 100 (279)\\nGreater t...</td>\n",
       "      <td>Less than 10 (166)\\n10 to 100 (279)\\nGreater t...</td>\n",
       "      <td>Less than 10 (166)\\n10 to 100 (279)\\nGreater t...</td>\n",
       "      <td>Less than 10 (166)\\n10 to 100 (279)\\nGreater t...</td>\n",
       "      <td>Less than 10 (166)\\n10 to 100 (279)\\nGreater t...</td>\n",
       "      <td>Less than 10 (166)\\n10 to 100 (279)\\nGreater t...</td>\n",
       "      <td>Less than 10 (166)\\n10 to 100 (279)\\nGreater t...</td>\n",
       "    </tr>\n",
       "    <tr>\n",
       "      <th>...</th>\n",
       "      <td>...</td>\n",
       "      <td>...</td>\n",
       "      <td>...</td>\n",
       "      <td>...</td>\n",
       "      <td>...</td>\n",
       "      <td>...</td>\n",
       "      <td>...</td>\n",
       "    </tr>\n",
       "    <tr>\n",
       "      <th>4359</th>\n",
       "      <td>4000</td>\n",
       "      <td>4000</td>\n",
       "      <td>4000</td>\n",
       "      <td>4000</td>\n",
       "      <td>4000</td>\n",
       "      <td>4000</td>\n",
       "      <td>4000</td>\n",
       "    </tr>\n",
       "    <tr>\n",
       "      <th>4360</th>\n",
       "      <td>2</td>\n",
       "      <td>2</td>\n",
       "      <td>2</td>\n",
       "      <td>2</td>\n",
       "      <td>2</td>\n",
       "      <td>2</td>\n",
       "      <td>2</td>\n",
       "    </tr>\n",
       "    <tr>\n",
       "      <th>4361</th>\n",
       "      <td>2021</td>\n",
       "      <td>2021</td>\n",
       "      <td>2021</td>\n",
       "      <td>2021</td>\n",
       "      <td>2021</td>\n",
       "      <td>2021</td>\n",
       "      <td>2021</td>\n",
       "    </tr>\n",
       "    <tr>\n",
       "      <th>4362</th>\n",
       "      <td>Supported By:</td>\n",
       "      <td>Supported By:</td>\n",
       "      <td>Supported By:</td>\n",
       "      <td>Supported By:</td>\n",
       "      <td>Supported By:</td>\n",
       "      <td>Supported By:</td>\n",
       "      <td>Supported By:</td>\n",
       "    </tr>\n",
       "    <tr>\n",
       "      <th>4363</th>\n",
       "      <td>In Collaboration With:</td>\n",
       "      <td>In Collaboration With:</td>\n",
       "      <td>In Collaboration With:</td>\n",
       "      <td>In Collaboration With:</td>\n",
       "      <td>In Collaboration With:</td>\n",
       "      <td>In Collaboration With:</td>\n",
       "      <td>In Collaboration With:</td>\n",
       "    </tr>\n",
       "  </tbody>\n",
       "</table>\n",
       "<p>4364 rows × 7 columns</p>\n",
       "</div>"
      ],
      "text/plain": [
       "                                                   Name  \\\n",
       "0     Classification (466)\\nRegression (151)\\nCluste...   \n",
       "1         Categorical (38)\\nNumerical (422)\\nMixed (55)   \n",
       "2     Multivariate (480)\\nUnivariate (30)\\nSequentia...   \n",
       "3     Life Sciences (147)\\nPhysical Sciences (57)\\nC...   \n",
       "4     Less than 10 (166)\\n10 to 100 (279)\\nGreater t...   \n",
       "...                                                 ...   \n",
       "4359                                              4000    \n",
       "4360                                                 2    \n",
       "4361                                              2021    \n",
       "4362                                      Supported By:   \n",
       "4363                             In Collaboration With:   \n",
       "\n",
       "                                                   Type  \\\n",
       "0     Classification (466)\\nRegression (151)\\nCluste...   \n",
       "1         Categorical (38)\\nNumerical (422)\\nMixed (55)   \n",
       "2     Multivariate (480)\\nUnivariate (30)\\nSequentia...   \n",
       "3     Life Sciences (147)\\nPhysical Sciences (57)\\nC...   \n",
       "4     Less than 10 (166)\\n10 to 100 (279)\\nGreater t...   \n",
       "...                                                 ...   \n",
       "4359                                              4000    \n",
       "4360                                                 2    \n",
       "4361                                              2021    \n",
       "4362                                      Supported By:   \n",
       "4363                             In Collaboration With:   \n",
       "\n",
       "                                                   Task  \\\n",
       "0     Classification (466)\\nRegression (151)\\nCluste...   \n",
       "1         Categorical (38)\\nNumerical (422)\\nMixed (55)   \n",
       "2     Multivariate (480)\\nUnivariate (30)\\nSequentia...   \n",
       "3     Life Sciences (147)\\nPhysical Sciences (57)\\nC...   \n",
       "4     Less than 10 (166)\\n10 to 100 (279)\\nGreater t...   \n",
       "...                                                 ...   \n",
       "4359                                              4000    \n",
       "4360                                                 2    \n",
       "4361                                              2021    \n",
       "4362                                      Supported By:   \n",
       "4363                             In Collaboration With:   \n",
       "\n",
       "                                             Attri_type  \\\n",
       "0     Classification (466)\\nRegression (151)\\nCluste...   \n",
       "1         Categorical (38)\\nNumerical (422)\\nMixed (55)   \n",
       "2     Multivariate (480)\\nUnivariate (30)\\nSequentia...   \n",
       "3     Life Sciences (147)\\nPhysical Sciences (57)\\nC...   \n",
       "4     Less than 10 (166)\\n10 to 100 (279)\\nGreater t...   \n",
       "...                                                 ...   \n",
       "4359                                              4000    \n",
       "4360                                                 2    \n",
       "4361                                              2021    \n",
       "4362                                      Supported By:   \n",
       "4363                             In Collaboration With:   \n",
       "\n",
       "                                             #instances  \\\n",
       "0     Classification (466)\\nRegression (151)\\nCluste...   \n",
       "1         Categorical (38)\\nNumerical (422)\\nMixed (55)   \n",
       "2     Multivariate (480)\\nUnivariate (30)\\nSequentia...   \n",
       "3     Life Sciences (147)\\nPhysical Sciences (57)\\nC...   \n",
       "4     Less than 10 (166)\\n10 to 100 (279)\\nGreater t...   \n",
       "...                                                 ...   \n",
       "4359                                              4000    \n",
       "4360                                                 2    \n",
       "4361                                              2021    \n",
       "4362                                      Supported By:   \n",
       "4363                             In Collaboration With:   \n",
       "\n",
       "                                             #attribute  \\\n",
       "0     Classification (466)\\nRegression (151)\\nCluste...   \n",
       "1         Categorical (38)\\nNumerical (422)\\nMixed (55)   \n",
       "2     Multivariate (480)\\nUnivariate (30)\\nSequentia...   \n",
       "3     Life Sciences (147)\\nPhysical Sciences (57)\\nC...   \n",
       "4     Less than 10 (166)\\n10 to 100 (279)\\nGreater t...   \n",
       "...                                                 ...   \n",
       "4359                                              4000    \n",
       "4360                                                 2    \n",
       "4361                                              2021    \n",
       "4362                                      Supported By:   \n",
       "4363                             In Collaboration With:   \n",
       "\n",
       "                                                   Year  \n",
       "0     Classification (466)\\nRegression (151)\\nCluste...  \n",
       "1         Categorical (38)\\nNumerical (422)\\nMixed (55)  \n",
       "2     Multivariate (480)\\nUnivariate (30)\\nSequentia...  \n",
       "3     Life Sciences (147)\\nPhysical Sciences (57)\\nC...  \n",
       "4     Less than 10 (166)\\n10 to 100 (279)\\nGreater t...  \n",
       "...                                                 ...  \n",
       "4359                                              4000   \n",
       "4360                                                 2   \n",
       "4361                                              2021   \n",
       "4362                                      Supported By:  \n",
       "4363                             In Collaboration With:  \n",
       "\n",
       "[4364 rows x 7 columns]"
      ]
     },
     "execution_count": 113,
     "metadata": {},
     "output_type": "execute_result"
    }
   ],
   "source": [
    "df=pd.DataFrame({'Name':Datasetname,'Type':Datatype,'Task':Datatask,'Attri_type':Attributetype,'#instances':Noofinstances,'#attribute':Noofattribute,'Year':Datayear})\n",
    "df"
   ]
  },
  {
   "cell_type": "code",
   "execution_count": null,
   "id": "03ac3ddb",
   "metadata": {},
   "outputs": [],
   "source": []
  }
 ],
 "metadata": {
  "kernelspec": {
   "display_name": "Python 3 (ipykernel)",
   "language": "python",
   "name": "python3"
  },
  "language_info": {
   "codemirror_mode": {
    "name": "ipython",
    "version": 3
   },
   "file_extension": ".py",
   "mimetype": "text/x-python",
   "name": "python",
   "nbconvert_exporter": "python",
   "pygments_lexer": "ipython3",
   "version": "3.9.7"
  }
 },
 "nbformat": 4,
 "nbformat_minor": 5
}
