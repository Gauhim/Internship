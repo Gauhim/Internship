{
 "cells": [
  {
   "cell_type": "markdown",
   "id": "c98da0f9",
   "metadata": {},
   "source": [
    "# Write a python program to search for a smartphone"
   ]
  },
  {
   "cell_type": "code",
   "execution_count": null,
   "id": "be501843",
   "metadata": {},
   "outputs": [],
   "source": [
    "!pip install bs4\n",
    "!pip install requests"
   ]
  },
  {
   "cell_type": "code",
   "execution_count": null,
   "id": "90271c39",
   "metadata": {},
   "outputs": [],
   "source": [
    "from bs4 import BeautifulSoup\n",
    "import requests\n",
    "import pandas as pd"
   ]
  },
  {
   "cell_type": "code",
   "execution_count": null,
   "id": "d4cb5d3d",
   "metadata": {},
   "outputs": [],
   "source": [
    "page = requests.get(\"https://www.flipkart.com/search?q=smartphone&otracker=search&otracker1=search&marketplace=FLIPKART&as-show=on&as=off&as-pos=1&as-type=HISTORY\")\n",
    "page"
   ]
  },
  {
   "cell_type": "code",
   "execution_count": null,
   "id": "d05f0912",
   "metadata": {},
   "outputs": [],
   "source": [
    "soup = BeautifulSoup(page.content)\n",
    "soup"
   ]
  },
  {
   "cell_type": "code",
   "execution_count": null,
   "id": "7bf2262a",
   "metadata": {},
   "outputs": [],
   "source": [
    "brand_name = soup.find_all('div',class_=\"_4rR01T\")\n",
    "brand_name[:24]"
   ]
  },
  {
   "cell_type": "code",
   "execution_count": null,
   "id": "b59c79cb",
   "metadata": {},
   "outputs": [],
   "source": [
    "for item in brand_name:\n",
    "    print(item.text)"
   ]
  },
  {
   "cell_type": "code",
   "execution_count": null,
   "id": "c83c57d3",
   "metadata": {},
   "outputs": [],
   "source": [
    "price=soup.find_all('div',class_=\"_30jeq3 _1_WHN1\")\n",
    "price[:24]"
   ]
  },
  {
   "cell_type": "code",
   "execution_count": null,
   "id": "067dcd57",
   "metadata": {},
   "outputs": [],
   "source": [
    "for item in price:\n",
    "    print(item.text)"
   ]
  },
  {
   "cell_type": "code",
   "execution_count": null,
   "id": "bf6b3e11",
   "metadata": {},
   "outputs": [],
   "source": [
    "rating=soup.find_all('span',class_=\"_2_R_DZ\")\n",
    "rating[:24]"
   ]
  },
  {
   "cell_type": "code",
   "execution_count": null,
   "id": "9a664c3a",
   "metadata": {},
   "outputs": [],
   "source": [
    "for i in rating:\n",
    "    print(item.text)"
   ]
  },
  {
   "cell_type": "code",
   "execution_count": null,
   "id": "a27f3157",
   "metadata": {},
   "outputs": [],
   "source": [
    "print(len(brand_name),len(price),len(rating))"
   ]
  },
  {
   "cell_type": "code",
   "execution_count": null,
   "id": "610c236e",
   "metadata": {},
   "outputs": [],
   "source": [
    "df=pd.DataFrame({'Brand':brand_name,'Price':price,'Rating':rating})\n",
    "df"
   ]
  },
  {
   "cell_type": "markdown",
   "id": "a3183153",
   "metadata": {},
   "source": [
    "# Python program which searches all the product under a particular product from www.amazon.in. The product to be searched will be taken as input from user."
   ]
  },
  {
   "cell_type": "code",
   "execution_count": null,
   "id": "adf6d441",
   "metadata": {},
   "outputs": [],
   "source": [
    "!pip install selenium"
   ]
  },
  {
   "cell_type": "code",
   "execution_count": null,
   "id": "87e50275",
   "metadata": {},
   "outputs": [],
   "source": [
    "import selenium\n",
    "import pandas as pd\n",
    "from selenium import webdriver\n",
    "import warnings\n",
    "warnings.filterwarnings('ignore')\n",
    "import time\n",
    "from selenium.webdriver.common.by import By"
   ]
  },
  {
   "cell_type": "code",
   "execution_count": null,
   "id": "93cd3fc2",
   "metadata": {},
   "outputs": [],
   "source": [
    "driver=webdriver.Chrome(r\"C:\\Users\\hp\\Desktop\\Fliprobo\\chromedriver.exe\")"
   ]
  },
  {
   "cell_type": "code",
   "execution_count": null,
   "id": "584cc3dd",
   "metadata": {},
   "outputs": [],
   "source": [
    "driver=webdriver.Chrome(r\"chromedriver.exe\")"
   ]
  },
  {
   "cell_type": "code",
   "execution_count": null,
   "id": "93108a7e",
   "metadata": {},
   "outputs": [],
   "source": [
    "driver.get(\"https://www.amazon.in\")"
   ]
  },
  {
   "cell_type": "code",
   "execution_count": null,
   "id": "6e9df838",
   "metadata": {},
   "outputs": [],
   "source": [
    "designation=driver.find_element(By.CLASS_NAME,\"nav-search-field\")\n",
    "designation.send_keys=(input(\"Enter product to search = \"))\n",
    "                                "
   ]
  },
  {
   "cell_type": "code",
   "execution_count": null,
   "id": "5c81f021",
   "metadata": {},
   "outputs": [],
   "source": [
    "search=driver.find_element(By.CLASS_NAME,\"nav-right\")\n",
    "search.click()"
   ]
  },
  {
   "cell_type": "code",
   "execution_count": null,
   "id": "12db2200",
   "metadata": {},
   "outputs": [],
   "source": [
    "Brand_name=[]\n",
    "ratings=[]\n",
    "prices=[]\n",
    "delivery_time=[]"
   ]
  },
  {
   "cell_type": "code",
   "execution_count": null,
   "id": "28aab8ae",
   "metadata": {},
   "outputs": [],
   "source": [
    "name_tags=driver.find_elements(By.XPATH,'//a[@class=\"a-link-normal s-underline-text s-underline-link-text s-link-style a-text-normal\"]')\n",
    "for i in name_tags:\n",
    "    name=i.text\n",
    "    Brand_name.append(name)\n",
    "                                          "
   ]
  },
  {
   "cell_type": "code",
   "execution_count": null,
   "id": "861e43ee",
   "metadata": {},
   "outputs": [],
   "source": [
    "ratings_tags=driver.find_elements(By.XPATH,'//div[@class=\"a-row a-size-small\"]')\n",
    "for i in ratings_tags:\n",
    "    rating=i.text\n",
    "    ratings.append(rating)"
   ]
  },
  {
   "cell_type": "code",
   "execution_count": null,
   "id": "ff13c076",
   "metadata": {},
   "outputs": [],
   "source": [
    "prices_tags=driver.find_elements(By.XPATH,'//span[@class=\"a-offscreen\"]')\n",
    "for i in prices_tags:\n",
    "    price=i.text\n",
    "    prices.append(price)"
   ]
  },
  {
   "cell_type": "code",
   "execution_count": null,
   "id": "22df6b3d",
   "metadata": {},
   "outputs": [],
   "source": [
    "time_tags=driver.find_elements(By.XPATH,'//span[@class=\"a-color-base a-text-bold\"]')\n",
    "for i in time_tags:\n",
    "    time=i.text\n",
    "    delivery_time.append(time)"
   ]
  },
  {
   "cell_type": "code",
   "execution_count": null,
   "id": "0c87174e",
   "metadata": {},
   "outputs": [],
   "source": [
    "print(len(Brand_name),len(ratings),len(prices),len(delivery_time))"
   ]
  },
  {
   "cell_type": "code",
   "execution_count": null,
   "id": "d5aefc92",
   "metadata": {},
   "outputs": [],
   "source": [
    "url=(\"https://www.amazon.in/s?k=Guitar&crid=FXNSEND6NX2Y&sprefix=guitar%2Caps%2C246&ref=nb_sb_noss_1\")\n",
    "url"
   ]
  },
  {
   "cell_type": "code",
   "execution_count": null,
   "id": "c4a61f6b",
   "metadata": {},
   "outputs": [],
   "source": [
    "df=pd.DataFrame({'Brand':Brand_name,'Ratings':ratings,'Price':prices,'Delivery':delivery_time})\n",
    "df"
   ]
  },
  {
   "cell_type": "markdown",
   "id": "cd356062",
   "metadata": {},
   "source": [
    "# Write a program to scrap details of all the funding deals for second quarter (i.e Jan 21 – March 21) from trak.in"
   ]
  },
  {
   "cell_type": "code",
   "execution_count": null,
   "id": "b08d682e",
   "metadata": {},
   "outputs": [],
   "source": [
    "import selenium\n",
    "import pandas as pd\n",
    "from selenium import webdriver\n",
    "import warnings\n",
    "warnings.filterwarnings('ignore')\n",
    "import time\n",
    "from selenium.webdriver.common.by import By"
   ]
  },
  {
   "cell_type": "code",
   "execution_count": null,
   "id": "cbdcd831",
   "metadata": {},
   "outputs": [],
   "source": [
    "driver=webdriver.Chrome(r\"C:\\Users\\hp\\Desktop\\Fliprobo\\chromedriver.exe\")"
   ]
  },
  {
   "cell_type": "code",
   "execution_count": null,
   "id": "a48db798",
   "metadata": {},
   "outputs": [],
   "source": [
    "driver=webdriver.Chrome(r\"chromedriver.exe\")"
   ]
  },
  {
   "cell_type": "code",
   "execution_count": null,
   "id": "30af62c7",
   "metadata": {},
   "outputs": [],
   "source": [
    "driver.get(\"https://trak.in/india-startup-funding-investment-2015/\")"
   ]
  },
  {
   "cell_type": "code",
   "execution_count": null,
   "id": "374756c9",
   "metadata": {},
   "outputs": [],
   "source": [
    "january=[]\n",
    "february=[]\n",
    "march=[]"
   ]
  },
  {
   "cell_type": "code",
   "execution_count": null,
   "id": "5a3e98b5",
   "metadata": {},
   "outputs": [],
   "source": [
    "january_tags=driver.find_elements(By.XPATH,'//div[@class=\"dataTables_scroll\"]')\n",
    "for i in january_tags:\n",
    "    jan=i.text\n",
    "    january.append(jan)"
   ]
  },
  {
   "cell_type": "code",
   "execution_count": null,
   "id": "b985b65d",
   "metadata": {},
   "outputs": [],
   "source": [
    "february_tags=driver.find_elements(By.XPATH,'//div[@class=\"dataTables_scroll\"]')\n",
    "for i in february_tags:\n",
    "    feb=i.text\n",
    "    february.append(feb)"
   ]
  },
  {
   "cell_type": "code",
   "execution_count": null,
   "id": "456345b6",
   "metadata": {},
   "outputs": [],
   "source": [
    "march_tags=driver.find_elements(By.XPATH,'//div[@class=\"dataTables_scroll\"]')\n",
    "for i in march_tags:\n",
    "    mar=i.text\n",
    "    march.append(mar)"
   ]
  },
  {
   "cell_type": "code",
   "execution_count": null,
   "id": "e197ec6f",
   "metadata": {},
   "outputs": [],
   "source": [
    "print(len(january),len(february),len(march))"
   ]
  },
  {
   "cell_type": "code",
   "execution_count": null,
   "id": "d869218d",
   "metadata": {},
   "outputs": [],
   "source": [
    "df=pd.DataFrame({'JAN2021':january,'FEB2021':february,'MAR2021':march})\n",
    "df"
   ]
  },
  {
   "cell_type": "markdown",
   "id": "7768b628",
   "metadata": {},
   "source": [
    "# Write a program to scrap all the available details of best gaming laptops from digit.in."
   ]
  },
  {
   "cell_type": "code",
   "execution_count": null,
   "id": "243938b7",
   "metadata": {},
   "outputs": [],
   "source": [
    "import selenium\n",
    "import pandas as pd\n",
    "from selenium import webdriver\n",
    "import warnings\n",
    "warnings.filterwarnings('ignore')\n",
    "import time\n",
    "from selenium.webdriver.common.by import By"
   ]
  },
  {
   "cell_type": "code",
   "execution_count": null,
   "id": "89c7e64b",
   "metadata": {},
   "outputs": [],
   "source": [
    "driver=webdriver.Chrome(r\"C:\\Users\\hp\\Desktop\\Fliprobo\\chromedriver.exe\")"
   ]
  },
  {
   "cell_type": "code",
   "execution_count": null,
   "id": "e35c63f4",
   "metadata": {},
   "outputs": [],
   "source": [
    "driver=webdriver.Chrome(r\"chromedriver.exe\")"
   ]
  },
  {
   "cell_type": "code",
   "execution_count": null,
   "id": "ef656c66",
   "metadata": {},
   "outputs": [],
   "source": [
    "driver.get(\"https://www.digit.in/top-products/best-gaming-laptops-40.html\")"
   ]
  },
  {
   "cell_type": "code",
   "execution_count": null,
   "id": "94d89de0",
   "metadata": {},
   "outputs": [],
   "source": [
    "laptop_gaming=[]\n",
    "company_laptop=[]\n",
    "price=[]"
   ]
  },
  {
   "cell_type": "code",
   "execution_count": null,
   "id": "51c51a4a",
   "metadata": {},
   "outputs": [],
   "source": [
    "laptop_tags=driver.find_elements(By.XPATH,'//td[@class=\"MSI Titan GT77-12UHS\"]')\n",
    "for i in laptop_tags:\n",
    "    laptop=i.text\n",
    "    laptop_gaming.append(laptop)"
   ]
  },
  {
   "cell_type": "code",
   "execution_count": null,
   "id": "6c7e0f03",
   "metadata": {},
   "outputs": [],
   "source": [
    "company_tags=driver.find_elements(By.XPATH,'//td[@class=\"smmerchant\"]')\n",
    "for i in company_tags:\n",
    "    company=i.text\n",
    "    company_laptop.append(company)"
   ]
  },
  {
   "cell_type": "code",
   "execution_count": null,
   "id": "a04ce260",
   "metadata": {},
   "outputs": [],
   "source": [
    "price_tags=driver.find_elements(By.XPATH,'//td[@class=\"smprice\"]')\n",
    "for i in price_tags:\n",
    "    rates=i.text\n",
    "    price.append(rates)"
   ]
  },
  {
   "cell_type": "code",
   "execution_count": null,
   "id": "92d16044",
   "metadata": {},
   "outputs": [],
   "source": [
    "print(len(laptop_gaming),len(company_laptop),len(price))"
   ]
  },
  {
   "cell_type": "code",
   "execution_count": null,
   "id": "c47a5af9",
   "metadata": {},
   "outputs": [],
   "source": [
    "df=pd.DataFrame({\"GAMING LAPTOP\":laptop_gaming,'SELLER':company_laptop,'PRICE':price})\n",
    "df"
   ]
  },
  {
   "cell_type": "markdown",
   "id": "ddeb7730",
   "metadata": {},
   "source": [
    "# SCrape the details for all billionaires from www.forbes.com. Details to be scrapped: “Rank”, “Name”, “Net worth”, “Age”, “Citizenship”, “Source”, “Industry”."
   ]
  },
  {
   "cell_type": "code",
   "execution_count": 1,
   "id": "f5800db7",
   "metadata": {},
   "outputs": [],
   "source": [
    "import selenium\n",
    "import pandas as pd\n",
    "from selenium import webdriver\n",
    "import warnings\n",
    "warnings.filterwarnings('ignore')\n",
    "import time\n",
    "from selenium.webdriver.common.by import By"
   ]
  },
  {
   "cell_type": "code",
   "execution_count": 2,
   "id": "e3e3edf0",
   "metadata": {},
   "outputs": [],
   "source": [
    "driver=webdriver.Chrome(r\"C:\\Users\\hp\\Desktop\\Fliprobo\\chromedriver.exe\")"
   ]
  },
  {
   "cell_type": "code",
   "execution_count": 3,
   "id": "4fb7fec7",
   "metadata": {},
   "outputs": [],
   "source": [
    "driver=webdriver.Chrome(r\"chromedriver.exe\")"
   ]
  },
  {
   "cell_type": "code",
   "execution_count": 4,
   "id": "e5995788",
   "metadata": {},
   "outputs": [],
   "source": [
    "driver.get(\"https://www.forbes.com/billionaires/\")"
   ]
  },
  {
   "cell_type": "code",
   "execution_count": 5,
   "id": "dfa5a137",
   "metadata": {},
   "outputs": [],
   "source": [
    "billrank=[]\n",
    "billname=[]\n",
    "billworth=[]\n",
    "billage=[]\n",
    "billcitizenship=[]\n",
    "billsource=[]\n",
    "billindustry=[]"
   ]
  },
  {
   "cell_type": "code",
   "execution_count": 6,
   "id": "b8f3bde3",
   "metadata": {},
   "outputs": [],
   "source": [
    "billrank_tags=driver.find_elements(By.XPATH,'//div[@class=\"rank\"]')\n",
    "for i in billrank_tags:\n",
    "    rank=i.text\n",
    "    billrank.append(rank)"
   ]
  },
  {
   "cell_type": "code",
   "execution_count": 7,
   "id": "4b77d071",
   "metadata": {},
   "outputs": [],
   "source": [
    "billname_tags=driver.find_elements(By.XPATH,'//div[@class=\"personName\"]')\n",
    "for i in billname_tags:\n",
    "    name=i.text\n",
    "    billname.append(name)"
   ]
  },
  {
   "cell_type": "code",
   "execution_count": 8,
   "id": "36ba9a8a",
   "metadata": {},
   "outputs": [],
   "source": [
    "billworth_tags=driver.find_elements(By.XPATH,'//div[@class=\"netWorth\"]')\n",
    "for i in billworth_tags:\n",
    "    worth=i.text\n",
    "    billworth.append(worth)"
   ]
  },
  {
   "cell_type": "code",
   "execution_count": 9,
   "id": "b39c61bb",
   "metadata": {},
   "outputs": [],
   "source": [
    "billage_tags=driver.find_elements(By.XPATH,'//div[@class=\"age\"]')\n",
    "for i in billage_tags:\n",
    "    age=i.text\n",
    "    billage.append(age)"
   ]
  },
  {
   "cell_type": "code",
   "execution_count": 10,
   "id": "d587666e",
   "metadata": {},
   "outputs": [],
   "source": [
    "billcitizenship_tags=driver.find_elements(By.XPATH,'//div[@class=\"countryOfCitizenship\"]')\n",
    "for i in billcitizenship_tags:\n",
    "    citizenship=i.text\n",
    "    billcitizenship.append(citizenship)"
   ]
  },
  {
   "cell_type": "code",
   "execution_count": 11,
   "id": "2767c5a3",
   "metadata": {},
   "outputs": [],
   "source": [
    "billsource_tags=driver.find_elements(By.XPATH,'//div[@class=\"source\"]')\n",
    "for i in billsource_tags:\n",
    "    source=i.text\n",
    "    billsource.append(source)"
   ]
  },
  {
   "cell_type": "code",
   "execution_count": 12,
   "id": "68d7dd66",
   "metadata": {},
   "outputs": [],
   "source": [
    "billindustry_tags=driver.find_elements(By.XPATH,'//div[@class=\"category\"]')\n",
    "for i in billindustry_tags:\n",
    "    industry=i.text\n",
    "    billindustry.append(industry)"
   ]
  },
  {
   "cell_type": "code",
   "execution_count": 13,
   "id": "f7357acd",
   "metadata": {},
   "outputs": [
    {
     "name": "stdout",
     "output_type": "stream",
     "text": [
      "200 200 200 200 200 200 200\n"
     ]
    }
   ],
   "source": [
    "print(len(billrank),len(billname),len(billworth),len(billage),len(billcitizenship),len(billsource),len(billindustry))"
   ]
  },
  {
   "cell_type": "code",
   "execution_count": 14,
   "id": "ec7b19a7",
   "metadata": {},
   "outputs": [
    {
     "data": {
      "text/html": [
       "<div>\n",
       "<style scoped>\n",
       "    .dataframe tbody tr th:only-of-type {\n",
       "        vertical-align: middle;\n",
       "    }\n",
       "\n",
       "    .dataframe tbody tr th {\n",
       "        vertical-align: top;\n",
       "    }\n",
       "\n",
       "    .dataframe thead th {\n",
       "        text-align: right;\n",
       "    }\n",
       "</style>\n",
       "<table border=\"1\" class=\"dataframe\">\n",
       "  <thead>\n",
       "    <tr style=\"text-align: right;\">\n",
       "      <th></th>\n",
       "      <th>RANK</th>\n",
       "      <th>NAME</th>\n",
       "      <th>WORTH</th>\n",
       "      <th>CITIZENSHIP</th>\n",
       "      <th>SOURCE</th>\n",
       "      <th>INDUSTRY</th>\n",
       "    </tr>\n",
       "  </thead>\n",
       "  <tbody>\n",
       "    <tr>\n",
       "      <th>0</th>\n",
       "      <td>1.</td>\n",
       "      <td>Elon Musk</td>\n",
       "      <td>$219 B</td>\n",
       "      <td>United States</td>\n",
       "      <td>Tesla, SpaceX</td>\n",
       "      <td>Automotive</td>\n",
       "    </tr>\n",
       "    <tr>\n",
       "      <th>1</th>\n",
       "      <td>2.</td>\n",
       "      <td>Jeff Bezos</td>\n",
       "      <td>$171 B</td>\n",
       "      <td>United States</td>\n",
       "      <td>Amazon</td>\n",
       "      <td>Technology</td>\n",
       "    </tr>\n",
       "    <tr>\n",
       "      <th>2</th>\n",
       "      <td>3.</td>\n",
       "      <td>Bernard Arnault &amp; family</td>\n",
       "      <td>$158 B</td>\n",
       "      <td>France</td>\n",
       "      <td>LVMH</td>\n",
       "      <td>Fashion &amp; Retail</td>\n",
       "    </tr>\n",
       "    <tr>\n",
       "      <th>3</th>\n",
       "      <td>4.</td>\n",
       "      <td>Bill Gates</td>\n",
       "      <td>$129 B</td>\n",
       "      <td>United States</td>\n",
       "      <td>Microsoft</td>\n",
       "      <td>Technology</td>\n",
       "    </tr>\n",
       "    <tr>\n",
       "      <th>4</th>\n",
       "      <td>5.</td>\n",
       "      <td>Warren Buffett</td>\n",
       "      <td>$118 B</td>\n",
       "      <td>United States</td>\n",
       "      <td>Berkshire Hathaway</td>\n",
       "      <td>Finance &amp; Investments</td>\n",
       "    </tr>\n",
       "    <tr>\n",
       "      <th>...</th>\n",
       "      <td>...</td>\n",
       "      <td>...</td>\n",
       "      <td>...</td>\n",
       "      <td>...</td>\n",
       "      <td>...</td>\n",
       "      <td>...</td>\n",
       "    </tr>\n",
       "    <tr>\n",
       "      <th>195</th>\n",
       "      <td>192.</td>\n",
       "      <td>Marcel Herrmann Telles</td>\n",
       "      <td>$10.3 B</td>\n",
       "      <td>Brazil</td>\n",
       "      <td>beer</td>\n",
       "      <td>Food &amp; Beverage</td>\n",
       "    </tr>\n",
       "    <tr>\n",
       "      <th>196</th>\n",
       "      <td>197.</td>\n",
       "      <td>Leon Black</td>\n",
       "      <td>$10 B</td>\n",
       "      <td>United States</td>\n",
       "      <td>private equity</td>\n",
       "      <td>Finance &amp; Investments</td>\n",
       "    </tr>\n",
       "    <tr>\n",
       "      <th>197</th>\n",
       "      <td>197.</td>\n",
       "      <td>Joe Gebbia</td>\n",
       "      <td>$10 B</td>\n",
       "      <td>United States</td>\n",
       "      <td>Airbnb</td>\n",
       "      <td>Technology</td>\n",
       "    </tr>\n",
       "    <tr>\n",
       "      <th>198</th>\n",
       "      <td>197.</td>\n",
       "      <td>David Geffen</td>\n",
       "      <td>$10 B</td>\n",
       "      <td>United States</td>\n",
       "      <td>movies, record labels</td>\n",
       "      <td>Media &amp; Entertainment</td>\n",
       "    </tr>\n",
       "    <tr>\n",
       "      <th>199</th>\n",
       "      <td>197.</td>\n",
       "      <td>Yu Renrong</td>\n",
       "      <td>$10 B</td>\n",
       "      <td>China</td>\n",
       "      <td>semiconductors</td>\n",
       "      <td>Manufacturing</td>\n",
       "    </tr>\n",
       "  </tbody>\n",
       "</table>\n",
       "<p>200 rows × 6 columns</p>\n",
       "</div>"
      ],
      "text/plain": [
       "     RANK                      NAME    WORTH    CITIZENSHIP  \\\n",
       "0      1.                 Elon Musk   $219 B  United States   \n",
       "1      2.                Jeff Bezos   $171 B  United States   \n",
       "2      3.  Bernard Arnault & family   $158 B         France   \n",
       "3      4.                Bill Gates   $129 B  United States   \n",
       "4      5.            Warren Buffett   $118 B  United States   \n",
       "..    ...                       ...      ...            ...   \n",
       "195  192.    Marcel Herrmann Telles  $10.3 B         Brazil   \n",
       "196  197.                Leon Black    $10 B  United States   \n",
       "197  197.                Joe Gebbia    $10 B  United States   \n",
       "198  197.              David Geffen    $10 B  United States   \n",
       "199  197.                Yu Renrong    $10 B          China   \n",
       "\n",
       "                    SOURCE               INDUSTRY  \n",
       "0            Tesla, SpaceX             Automotive  \n",
       "1                   Amazon             Technology  \n",
       "2                     LVMH       Fashion & Retail  \n",
       "3                Microsoft             Technology  \n",
       "4       Berkshire Hathaway  Finance & Investments  \n",
       "..                     ...                    ...  \n",
       "195                   beer        Food & Beverage  \n",
       "196         private equity  Finance & Investments  \n",
       "197                 Airbnb             Technology  \n",
       "198  movies, record labels  Media & Entertainment  \n",
       "199         semiconductors          Manufacturing  \n",
       "\n",
       "[200 rows x 6 columns]"
      ]
     },
     "execution_count": 14,
     "metadata": {},
     "output_type": "execute_result"
    }
   ],
   "source": [
    "df=pd.DataFrame({\"RANK\":billrank,\"NAME\":billname,\"WORTH\":billworth,\"CITIZENSHIP\":billcitizenship,\"SOURCE\":billsource,\"INDUSTRY\":billindustry})\n",
    "df"
   ]
  },
  {
   "cell_type": "markdown",
   "id": "88f93322",
   "metadata": {},
   "source": [
    "# Write a program to extract at least 500 Comments, Comment upvote and time when comment was posted from any YouTube Video"
   ]
  },
  {
   "cell_type": "code",
   "execution_count": 61,
   "id": "09b53d22",
   "metadata": {},
   "outputs": [],
   "source": [
    "import selenium\n",
    "import pandas as pd\n",
    "from selenium import webdriver\n",
    "import warnings\n",
    "warnings.filterwarnings('ignore')\n",
    "import time\n",
    "from selenium.webdriver.common.by import By"
   ]
  },
  {
   "cell_type": "code",
   "execution_count": 62,
   "id": "35482d89",
   "metadata": {},
   "outputs": [],
   "source": [
    "driver=webdriver.Chrome(r\"C:\\Users\\hp\\Desktop\\Fliprobo\\chromedriver.exe\")"
   ]
  },
  {
   "cell_type": "code",
   "execution_count": 63,
   "id": "244e0dbf",
   "metadata": {},
   "outputs": [],
   "source": [
    "driver=webdriver.Chrome(r\"chromedriver.exe\")"
   ]
  },
  {
   "cell_type": "code",
   "execution_count": 64,
   "id": "8ab48e9e",
   "metadata": {},
   "outputs": [],
   "source": [
    "driver.get(\"https://www.youtube.com/watch?v=BddP6PYo2gs&list=RDCLAK5uy_n9Fbdw7e6ap-98_A-8JYBmPv64v-Uaq1g\")"
   ]
  },
  {
   "cell_type": "code",
   "execution_count": 65,
   "id": "9eddfa6e",
   "metadata": {},
   "outputs": [],
   "source": [
    "videocomment=[]\n",
    "videoupvote=[]\n",
    "videotime=[]"
   ]
  },
  {
   "cell_type": "code",
   "execution_count": 66,
   "id": "efdf0683",
   "metadata": {},
   "outputs": [],
   "source": [
    "videocomment_tags=driver.find_elements(By.XPATH,'//div[@class=\"style-scope ytd-expander\"]')\n",
    "for i in videocomment_tags:\n",
    "    comment=i.text\n",
    "    videocomment.append(comment)"
   ]
  },
  {
   "cell_type": "code",
   "execution_count": 67,
   "id": "8b8333b5",
   "metadata": {},
   "outputs": [],
   "source": [
    "videoupvote_tags=driver.find_elements(By.XPATH,'//a[@class=\"yt-simple-endpoint style-scope ytd-toggle-button-renderer\"]')\n",
    "for i in videoupvote_tags:\n",
    "    upvote=i.text\n",
    "    videoupvote.append(upvote)"
   ]
  },
  {
   "cell_type": "code",
   "execution_count": 68,
   "id": "bd0df24d",
   "metadata": {},
   "outputs": [],
   "source": [
    "videotime_tags=driver.find_elements(By.XPATH,'//a[@class=\"yt-simple-endpoint style-scope yt-formatted-string\"]')\n",
    "for i in videotime_tags:\n",
    "    time=i.text\n",
    "    videotime.append(time)"
   ]
  },
  {
   "cell_type": "code",
   "execution_count": 69,
   "id": "2a70823a",
   "metadata": {},
   "outputs": [
    {
     "name": "stdout",
     "output_type": "stream",
     "text": [
      "0 0 1\n"
     ]
    }
   ],
   "source": [
    "print(len(videocomment),len(videoupvote),len(videotime))"
   ]
  },
  {
   "cell_type": "code",
   "execution_count": 70,
   "id": "8204d331",
   "metadata": {},
   "outputs": [
    {
     "ename": "ValueError",
     "evalue": "All arrays must be of the same length",
     "output_type": "error",
     "traceback": [
      "\u001b[1;31m---------------------------------------------------------------------------\u001b[0m",
      "\u001b[1;31mValueError\u001b[0m                                Traceback (most recent call last)",
      "\u001b[1;32m~\\AppData\\Local\\Temp/ipykernel_7308/1228753003.py\u001b[0m in \u001b[0;36m<module>\u001b[1;34m\u001b[0m\n\u001b[1;32m----> 1\u001b[1;33m \u001b[0mdf\u001b[0m\u001b[1;33m=\u001b[0m\u001b[0mpd\u001b[0m\u001b[1;33m.\u001b[0m\u001b[0mDataFrame\u001b[0m\u001b[1;33m(\u001b[0m\u001b[1;33m{\u001b[0m\u001b[1;34m\"COMMENT\"\u001b[0m\u001b[1;33m:\u001b[0m\u001b[0mvideocomment\u001b[0m\u001b[1;33m,\u001b[0m\u001b[1;34m\"UPVOTE\"\u001b[0m\u001b[1;33m:\u001b[0m\u001b[0mvideoupvote\u001b[0m\u001b[1;33m,\u001b[0m\u001b[1;34m\"TIME\"\u001b[0m\u001b[1;33m:\u001b[0m\u001b[0mvideotime\u001b[0m\u001b[1;33m}\u001b[0m\u001b[1;33m)\u001b[0m\u001b[1;33m\u001b[0m\u001b[1;33m\u001b[0m\u001b[0m\n\u001b[0m\u001b[0;32m      2\u001b[0m \u001b[0mdf\u001b[0m\u001b[1;33m\u001b[0m\u001b[1;33m\u001b[0m\u001b[0m\n",
      "\u001b[1;32m~\\anaconda3\\lib\\site-packages\\pandas\\core\\frame.py\u001b[0m in \u001b[0;36m__init__\u001b[1;34m(self, data, index, columns, dtype, copy)\u001b[0m\n\u001b[0;32m    612\u001b[0m         \u001b[1;32melif\u001b[0m \u001b[0misinstance\u001b[0m\u001b[1;33m(\u001b[0m\u001b[0mdata\u001b[0m\u001b[1;33m,\u001b[0m \u001b[0mdict\u001b[0m\u001b[1;33m)\u001b[0m\u001b[1;33m:\u001b[0m\u001b[1;33m\u001b[0m\u001b[1;33m\u001b[0m\u001b[0m\n\u001b[0;32m    613\u001b[0m             \u001b[1;31m# GH#38939 de facto copy defaults to False only in non-dict cases\u001b[0m\u001b[1;33m\u001b[0m\u001b[1;33m\u001b[0m\u001b[0m\n\u001b[1;32m--> 614\u001b[1;33m             \u001b[0mmgr\u001b[0m \u001b[1;33m=\u001b[0m \u001b[0mdict_to_mgr\u001b[0m\u001b[1;33m(\u001b[0m\u001b[0mdata\u001b[0m\u001b[1;33m,\u001b[0m \u001b[0mindex\u001b[0m\u001b[1;33m,\u001b[0m \u001b[0mcolumns\u001b[0m\u001b[1;33m,\u001b[0m \u001b[0mdtype\u001b[0m\u001b[1;33m=\u001b[0m\u001b[0mdtype\u001b[0m\u001b[1;33m,\u001b[0m \u001b[0mcopy\u001b[0m\u001b[1;33m=\u001b[0m\u001b[0mcopy\u001b[0m\u001b[1;33m,\u001b[0m \u001b[0mtyp\u001b[0m\u001b[1;33m=\u001b[0m\u001b[0mmanager\u001b[0m\u001b[1;33m)\u001b[0m\u001b[1;33m\u001b[0m\u001b[1;33m\u001b[0m\u001b[0m\n\u001b[0m\u001b[0;32m    615\u001b[0m         \u001b[1;32melif\u001b[0m \u001b[0misinstance\u001b[0m\u001b[1;33m(\u001b[0m\u001b[0mdata\u001b[0m\u001b[1;33m,\u001b[0m \u001b[0mma\u001b[0m\u001b[1;33m.\u001b[0m\u001b[0mMaskedArray\u001b[0m\u001b[1;33m)\u001b[0m\u001b[1;33m:\u001b[0m\u001b[1;33m\u001b[0m\u001b[1;33m\u001b[0m\u001b[0m\n\u001b[0;32m    616\u001b[0m             \u001b[1;32mimport\u001b[0m \u001b[0mnumpy\u001b[0m\u001b[1;33m.\u001b[0m\u001b[0mma\u001b[0m\u001b[1;33m.\u001b[0m\u001b[0mmrecords\u001b[0m \u001b[1;32mas\u001b[0m \u001b[0mmrecords\u001b[0m\u001b[1;33m\u001b[0m\u001b[1;33m\u001b[0m\u001b[0m\n",
      "\u001b[1;32m~\\anaconda3\\lib\\site-packages\\pandas\\core\\internals\\construction.py\u001b[0m in \u001b[0;36mdict_to_mgr\u001b[1;34m(data, index, columns, dtype, typ, copy)\u001b[0m\n\u001b[0;32m    462\u001b[0m         \u001b[1;31m# TODO: can we get rid of the dt64tz special case above?\u001b[0m\u001b[1;33m\u001b[0m\u001b[1;33m\u001b[0m\u001b[0m\n\u001b[0;32m    463\u001b[0m \u001b[1;33m\u001b[0m\u001b[0m\n\u001b[1;32m--> 464\u001b[1;33m     return arrays_to_mgr(\n\u001b[0m\u001b[0;32m    465\u001b[0m         \u001b[0marrays\u001b[0m\u001b[1;33m,\u001b[0m \u001b[0mdata_names\u001b[0m\u001b[1;33m,\u001b[0m \u001b[0mindex\u001b[0m\u001b[1;33m,\u001b[0m \u001b[0mcolumns\u001b[0m\u001b[1;33m,\u001b[0m \u001b[0mdtype\u001b[0m\u001b[1;33m=\u001b[0m\u001b[0mdtype\u001b[0m\u001b[1;33m,\u001b[0m \u001b[0mtyp\u001b[0m\u001b[1;33m=\u001b[0m\u001b[0mtyp\u001b[0m\u001b[1;33m,\u001b[0m \u001b[0mconsolidate\u001b[0m\u001b[1;33m=\u001b[0m\u001b[0mcopy\u001b[0m\u001b[1;33m\u001b[0m\u001b[1;33m\u001b[0m\u001b[0m\n\u001b[0;32m    466\u001b[0m     )\n",
      "\u001b[1;32m~\\anaconda3\\lib\\site-packages\\pandas\\core\\internals\\construction.py\u001b[0m in \u001b[0;36marrays_to_mgr\u001b[1;34m(arrays, arr_names, index, columns, dtype, verify_integrity, typ, consolidate)\u001b[0m\n\u001b[0;32m    117\u001b[0m         \u001b[1;31m# figure out the index, if necessary\u001b[0m\u001b[1;33m\u001b[0m\u001b[1;33m\u001b[0m\u001b[0m\n\u001b[0;32m    118\u001b[0m         \u001b[1;32mif\u001b[0m \u001b[0mindex\u001b[0m \u001b[1;32mis\u001b[0m \u001b[1;32mNone\u001b[0m\u001b[1;33m:\u001b[0m\u001b[1;33m\u001b[0m\u001b[1;33m\u001b[0m\u001b[0m\n\u001b[1;32m--> 119\u001b[1;33m             \u001b[0mindex\u001b[0m \u001b[1;33m=\u001b[0m \u001b[0m_extract_index\u001b[0m\u001b[1;33m(\u001b[0m\u001b[0marrays\u001b[0m\u001b[1;33m)\u001b[0m\u001b[1;33m\u001b[0m\u001b[1;33m\u001b[0m\u001b[0m\n\u001b[0m\u001b[0;32m    120\u001b[0m         \u001b[1;32melse\u001b[0m\u001b[1;33m:\u001b[0m\u001b[1;33m\u001b[0m\u001b[1;33m\u001b[0m\u001b[0m\n\u001b[0;32m    121\u001b[0m             \u001b[0mindex\u001b[0m \u001b[1;33m=\u001b[0m \u001b[0mensure_index\u001b[0m\u001b[1;33m(\u001b[0m\u001b[0mindex\u001b[0m\u001b[1;33m)\u001b[0m\u001b[1;33m\u001b[0m\u001b[1;33m\u001b[0m\u001b[0m\n",
      "\u001b[1;32m~\\anaconda3\\lib\\site-packages\\pandas\\core\\internals\\construction.py\u001b[0m in \u001b[0;36m_extract_index\u001b[1;34m(data)\u001b[0m\n\u001b[0;32m    633\u001b[0m             \u001b[0mlengths\u001b[0m \u001b[1;33m=\u001b[0m \u001b[0mlist\u001b[0m\u001b[1;33m(\u001b[0m\u001b[0mset\u001b[0m\u001b[1;33m(\u001b[0m\u001b[0mraw_lengths\u001b[0m\u001b[1;33m)\u001b[0m\u001b[1;33m)\u001b[0m\u001b[1;33m\u001b[0m\u001b[1;33m\u001b[0m\u001b[0m\n\u001b[0;32m    634\u001b[0m             \u001b[1;32mif\u001b[0m \u001b[0mlen\u001b[0m\u001b[1;33m(\u001b[0m\u001b[0mlengths\u001b[0m\u001b[1;33m)\u001b[0m \u001b[1;33m>\u001b[0m \u001b[1;36m1\u001b[0m\u001b[1;33m:\u001b[0m\u001b[1;33m\u001b[0m\u001b[1;33m\u001b[0m\u001b[0m\n\u001b[1;32m--> 635\u001b[1;33m                 \u001b[1;32mraise\u001b[0m \u001b[0mValueError\u001b[0m\u001b[1;33m(\u001b[0m\u001b[1;34m\"All arrays must be of the same length\"\u001b[0m\u001b[1;33m)\u001b[0m\u001b[1;33m\u001b[0m\u001b[1;33m\u001b[0m\u001b[0m\n\u001b[0m\u001b[0;32m    636\u001b[0m \u001b[1;33m\u001b[0m\u001b[0m\n\u001b[0;32m    637\u001b[0m             \u001b[1;32mif\u001b[0m \u001b[0mhave_dicts\u001b[0m\u001b[1;33m:\u001b[0m\u001b[1;33m\u001b[0m\u001b[1;33m\u001b[0m\u001b[0m\n",
      "\u001b[1;31mValueError\u001b[0m: All arrays must be of the same length"
     ]
    }
   ],
   "source": [
    "df=pd.DataFrame({\"COMMENT\":videocomment,\"UPVOTE\":videoupvote,\"TIME\":videotime})\n",
    "df"
   ]
  },
  {
   "cell_type": "markdown",
   "id": "3125f853",
   "metadata": {},
   "source": [
    "# Write a python program to scrape a data for all available Hostels from https://www.hostelworld.com/ in “London” location. You have to scrape hostel name, distance from city centre, ratings, total reviews,overall reviews, privates from price, dorms from price, facilities and property description"
   ]
  },
  {
   "cell_type": "code",
   "execution_count": 12,
   "id": "6ca401c5",
   "metadata": {},
   "outputs": [],
   "source": [
    "import selenium\n",
    "import pandas as pd\n",
    "from selenium import webdriver\n",
    "import warnings\n",
    "warnings.filterwarnings('ignore')\n",
    "import time\n",
    "from selenium.webdriver.common.by import By"
   ]
  },
  {
   "cell_type": "code",
   "execution_count": 13,
   "id": "55e79cf4",
   "metadata": {},
   "outputs": [],
   "source": [
    "driver=webdriver.Chrome(r\"C:\\Users\\hp\\Desktop\\Fliprobo\\chromedriver.exe\")"
   ]
  },
  {
   "cell_type": "code",
   "execution_count": 14,
   "id": "8a0ab49f",
   "metadata": {},
   "outputs": [],
   "source": [
    "driver=webdriver.Chrome(r\"chromedriver.exe\")"
   ]
  },
  {
   "cell_type": "code",
   "execution_count": 15,
   "id": "e5a6da86",
   "metadata": {},
   "outputs": [],
   "source": [
    "driver.get(\"https://www.hostelworld.com/\")"
   ]
  },
  {
   "cell_type": "code",
   "execution_count": 16,
   "id": "3241f7f3",
   "metadata": {},
   "outputs": [],
   "source": [
    "location=driver.find_element(By.CLASS_NAME,\"location-text\")\n",
    "location.send_keys(\"London\")"
   ]
  },
  {
   "cell_type": "code",
   "execution_count": 22,
   "id": "bf779dc5",
   "metadata": {},
   "outputs": [],
   "source": [
    "search=driver.find_element(By.CLASS_NAME,\"search-button\")\n",
    "search.click()"
   ]
  },
  {
   "cell_type": "code",
   "execution_count": 23,
   "id": "56cb4bdd",
   "metadata": {},
   "outputs": [],
   "source": [
    "hostelname=[]\n",
    "distancefromcity=[]\n",
    "hostelrating=[]\n",
    "totalreview=[]\n",
    "hostelprice=[]\n",
    "dormsprice=[]\n",
    "propertydiscussion=[]\n"
   ]
  },
  {
   "cell_type": "code",
   "execution_count": 24,
   "id": "724a3611",
   "metadata": {},
   "outputs": [],
   "source": [
    "hostelname_tags=driver.find_elements(By.XPATH,'//h2[@class=\"title title-6\"]')\n",
    "for i in hostelname_tags:\n",
    "    name=i.text\n",
    "    hostelname.append(name)"
   ]
  },
  {
   "cell_type": "code",
   "execution_count": 25,
   "id": "e545ccc5",
   "metadata": {},
   "outputs": [],
   "source": [
    "distancefromcity_tags=driver.find_elements(By.XPATH,'//div[@class=\"subtitle body-3\"]')\n",
    "for i in distancefromcity_tags:\n",
    "    distance=i.text\n",
    "    distancefromcity.append(distance)"
   ]
  },
  {
   "cell_type": "code",
   "execution_count": 26,
   "id": "82cbb0fc",
   "metadata": {},
   "outputs": [],
   "source": [
    "hostelrating_tags=driver.find_elements(By.XPATH,'//div[@class=\"score orange big\"]')\n",
    "for i in hostelrating_tags:\n",
    "    rating=i.text\n",
    "    hostelrating.append(rating)"
   ]
  },
  {
   "cell_type": "code",
   "execution_count": 27,
   "id": "5973536c",
   "metadata": {},
   "outputs": [],
   "source": [
    "totalreview_tags=driver.find_elements(By.XPATH,'//div[@class=\"reviews\"]')\n",
    "for i in totalreview_tags:\n",
    "    review=i.text\n",
    "    totalreview.append(review)"
   ]
  },
  {
   "cell_type": "code",
   "execution_count": 28,
   "id": "76acb0b3",
   "metadata": {},
   "outputs": [],
   "source": [
    "hostelprice_tags=driver.find_elements(By.XPATH,'//div[@class=\"price title-5\"]')\n",
    "for i in hostelprice_tags:\n",
    "    price=i.text\n",
    "    hostelprice.append(price)"
   ]
  },
  {
   "cell_type": "code",
   "execution_count": 29,
   "id": "23b8b708",
   "metadata": {},
   "outputs": [],
   "source": [
    "dormsprice_tags=driver.find_elements(By.XPATH,'//div[@class=\"price-col\"]')\n",
    "for i in dormsprice_tags:\n",
    "    dprice=i.text\n",
    "    dormsprice.append(dprice)"
   ]
  },
  {
   "cell_type": "code",
   "execution_count": 32,
   "id": "b15a7dcc",
   "metadata": {},
   "outputs": [],
   "source": [
    "propertydiscussion_tags=driver.find_elements(By.XPATH,'//div[@class=\"facilities-label facilities\"]')\n",
    "for i in propertydiscussion_tags:\n",
    "    discussion=i.text\n",
    "    propertydiscussion.append(discussion)"
   ]
  },
  {
   "cell_type": "code",
   "execution_count": 33,
   "id": "6dcbc64d",
   "metadata": {},
   "outputs": [
    {
     "name": "stdout",
     "output_type": "stream",
     "text": [
      "30 33 29 30 47 60 30\n"
     ]
    }
   ],
   "source": [
    "print(len(hostelname),len(distancefromcity),len(hostelrating),len(totalreview),len(hostelprice),len(dormsprice),len(propertydiscussion))"
   ]
  },
  {
   "cell_type": "code",
   "execution_count": 34,
   "id": "6e07ae17",
   "metadata": {},
   "outputs": [
    {
     "ename": "ValueError",
     "evalue": "All arrays must be of the same length",
     "output_type": "error",
     "traceback": [
      "\u001b[1;31m---------------------------------------------------------------------------\u001b[0m",
      "\u001b[1;31mValueError\u001b[0m                                Traceback (most recent call last)",
      "\u001b[1;32m~\\AppData\\Local\\Temp/ipykernel_7872/2443072923.py\u001b[0m in \u001b[0;36m<module>\u001b[1;34m\u001b[0m\n\u001b[1;32m----> 1\u001b[1;33m \u001b[0mdf\u001b[0m\u001b[1;33m=\u001b[0m\u001b[0mpd\u001b[0m\u001b[1;33m.\u001b[0m\u001b[0mDataFrame\u001b[0m\u001b[1;33m(\u001b[0m\u001b[1;33m{\u001b[0m\u001b[1;34m\"NAME\"\u001b[0m\u001b[1;33m:\u001b[0m\u001b[0mhostelname\u001b[0m\u001b[1;33m,\u001b[0m\u001b[1;34m\"DISTANCE\"\u001b[0m\u001b[1;33m:\u001b[0m\u001b[0mdistancefromcity\u001b[0m\u001b[1;33m,\u001b[0m\u001b[1;34m\"RATING\"\u001b[0m\u001b[1;33m:\u001b[0m\u001b[0mhostelrating\u001b[0m\u001b[1;33m,\u001b[0m\u001b[1;34m\"REVIEW\"\u001b[0m\u001b[1;33m:\u001b[0m\u001b[0mtotalreview\u001b[0m\u001b[1;33m,\u001b[0m\u001b[1;34m\"PRICE\"\u001b[0m\u001b[1;33m:\u001b[0m\u001b[0mhostelprice\u001b[0m\u001b[1;33m,\u001b[0m\u001b[1;34m\"DORMS\"\u001b[0m\u001b[1;33m:\u001b[0m\u001b[0mdormsprice\u001b[0m\u001b[1;33m,\u001b[0m\u001b[1;34m\"PROPERTY\"\u001b[0m\u001b[1;33m:\u001b[0m\u001b[0mpropertydiscussion\u001b[0m\u001b[1;33m}\u001b[0m\u001b[1;33m)\u001b[0m\u001b[1;33m\u001b[0m\u001b[1;33m\u001b[0m\u001b[0m\n\u001b[0m\u001b[0;32m      2\u001b[0m \u001b[0mdf\u001b[0m\u001b[1;33m\u001b[0m\u001b[1;33m\u001b[0m\u001b[0m\n",
      "\u001b[1;32m~\\anaconda3\\lib\\site-packages\\pandas\\core\\frame.py\u001b[0m in \u001b[0;36m__init__\u001b[1;34m(self, data, index, columns, dtype, copy)\u001b[0m\n\u001b[0;32m    612\u001b[0m         \u001b[1;32melif\u001b[0m \u001b[0misinstance\u001b[0m\u001b[1;33m(\u001b[0m\u001b[0mdata\u001b[0m\u001b[1;33m,\u001b[0m \u001b[0mdict\u001b[0m\u001b[1;33m)\u001b[0m\u001b[1;33m:\u001b[0m\u001b[1;33m\u001b[0m\u001b[1;33m\u001b[0m\u001b[0m\n\u001b[0;32m    613\u001b[0m             \u001b[1;31m# GH#38939 de facto copy defaults to False only in non-dict cases\u001b[0m\u001b[1;33m\u001b[0m\u001b[1;33m\u001b[0m\u001b[0m\n\u001b[1;32m--> 614\u001b[1;33m             \u001b[0mmgr\u001b[0m \u001b[1;33m=\u001b[0m \u001b[0mdict_to_mgr\u001b[0m\u001b[1;33m(\u001b[0m\u001b[0mdata\u001b[0m\u001b[1;33m,\u001b[0m \u001b[0mindex\u001b[0m\u001b[1;33m,\u001b[0m \u001b[0mcolumns\u001b[0m\u001b[1;33m,\u001b[0m \u001b[0mdtype\u001b[0m\u001b[1;33m=\u001b[0m\u001b[0mdtype\u001b[0m\u001b[1;33m,\u001b[0m \u001b[0mcopy\u001b[0m\u001b[1;33m=\u001b[0m\u001b[0mcopy\u001b[0m\u001b[1;33m,\u001b[0m \u001b[0mtyp\u001b[0m\u001b[1;33m=\u001b[0m\u001b[0mmanager\u001b[0m\u001b[1;33m)\u001b[0m\u001b[1;33m\u001b[0m\u001b[1;33m\u001b[0m\u001b[0m\n\u001b[0m\u001b[0;32m    615\u001b[0m         \u001b[1;32melif\u001b[0m \u001b[0misinstance\u001b[0m\u001b[1;33m(\u001b[0m\u001b[0mdata\u001b[0m\u001b[1;33m,\u001b[0m \u001b[0mma\u001b[0m\u001b[1;33m.\u001b[0m\u001b[0mMaskedArray\u001b[0m\u001b[1;33m)\u001b[0m\u001b[1;33m:\u001b[0m\u001b[1;33m\u001b[0m\u001b[1;33m\u001b[0m\u001b[0m\n\u001b[0;32m    616\u001b[0m             \u001b[1;32mimport\u001b[0m \u001b[0mnumpy\u001b[0m\u001b[1;33m.\u001b[0m\u001b[0mma\u001b[0m\u001b[1;33m.\u001b[0m\u001b[0mmrecords\u001b[0m \u001b[1;32mas\u001b[0m \u001b[0mmrecords\u001b[0m\u001b[1;33m\u001b[0m\u001b[1;33m\u001b[0m\u001b[0m\n",
      "\u001b[1;32m~\\anaconda3\\lib\\site-packages\\pandas\\core\\internals\\construction.py\u001b[0m in \u001b[0;36mdict_to_mgr\u001b[1;34m(data, index, columns, dtype, typ, copy)\u001b[0m\n\u001b[0;32m    462\u001b[0m         \u001b[1;31m# TODO: can we get rid of the dt64tz special case above?\u001b[0m\u001b[1;33m\u001b[0m\u001b[1;33m\u001b[0m\u001b[0m\n\u001b[0;32m    463\u001b[0m \u001b[1;33m\u001b[0m\u001b[0m\n\u001b[1;32m--> 464\u001b[1;33m     return arrays_to_mgr(\n\u001b[0m\u001b[0;32m    465\u001b[0m         \u001b[0marrays\u001b[0m\u001b[1;33m,\u001b[0m \u001b[0mdata_names\u001b[0m\u001b[1;33m,\u001b[0m \u001b[0mindex\u001b[0m\u001b[1;33m,\u001b[0m \u001b[0mcolumns\u001b[0m\u001b[1;33m,\u001b[0m \u001b[0mdtype\u001b[0m\u001b[1;33m=\u001b[0m\u001b[0mdtype\u001b[0m\u001b[1;33m,\u001b[0m \u001b[0mtyp\u001b[0m\u001b[1;33m=\u001b[0m\u001b[0mtyp\u001b[0m\u001b[1;33m,\u001b[0m \u001b[0mconsolidate\u001b[0m\u001b[1;33m=\u001b[0m\u001b[0mcopy\u001b[0m\u001b[1;33m\u001b[0m\u001b[1;33m\u001b[0m\u001b[0m\n\u001b[0;32m    466\u001b[0m     )\n",
      "\u001b[1;32m~\\anaconda3\\lib\\site-packages\\pandas\\core\\internals\\construction.py\u001b[0m in \u001b[0;36marrays_to_mgr\u001b[1;34m(arrays, arr_names, index, columns, dtype, verify_integrity, typ, consolidate)\u001b[0m\n\u001b[0;32m    117\u001b[0m         \u001b[1;31m# figure out the index, if necessary\u001b[0m\u001b[1;33m\u001b[0m\u001b[1;33m\u001b[0m\u001b[0m\n\u001b[0;32m    118\u001b[0m         \u001b[1;32mif\u001b[0m \u001b[0mindex\u001b[0m \u001b[1;32mis\u001b[0m \u001b[1;32mNone\u001b[0m\u001b[1;33m:\u001b[0m\u001b[1;33m\u001b[0m\u001b[1;33m\u001b[0m\u001b[0m\n\u001b[1;32m--> 119\u001b[1;33m             \u001b[0mindex\u001b[0m \u001b[1;33m=\u001b[0m \u001b[0m_extract_index\u001b[0m\u001b[1;33m(\u001b[0m\u001b[0marrays\u001b[0m\u001b[1;33m)\u001b[0m\u001b[1;33m\u001b[0m\u001b[1;33m\u001b[0m\u001b[0m\n\u001b[0m\u001b[0;32m    120\u001b[0m         \u001b[1;32melse\u001b[0m\u001b[1;33m:\u001b[0m\u001b[1;33m\u001b[0m\u001b[1;33m\u001b[0m\u001b[0m\n\u001b[0;32m    121\u001b[0m             \u001b[0mindex\u001b[0m \u001b[1;33m=\u001b[0m \u001b[0mensure_index\u001b[0m\u001b[1;33m(\u001b[0m\u001b[0mindex\u001b[0m\u001b[1;33m)\u001b[0m\u001b[1;33m\u001b[0m\u001b[1;33m\u001b[0m\u001b[0m\n",
      "\u001b[1;32m~\\anaconda3\\lib\\site-packages\\pandas\\core\\internals\\construction.py\u001b[0m in \u001b[0;36m_extract_index\u001b[1;34m(data)\u001b[0m\n\u001b[0;32m    633\u001b[0m             \u001b[0mlengths\u001b[0m \u001b[1;33m=\u001b[0m \u001b[0mlist\u001b[0m\u001b[1;33m(\u001b[0m\u001b[0mset\u001b[0m\u001b[1;33m(\u001b[0m\u001b[0mraw_lengths\u001b[0m\u001b[1;33m)\u001b[0m\u001b[1;33m)\u001b[0m\u001b[1;33m\u001b[0m\u001b[1;33m\u001b[0m\u001b[0m\n\u001b[0;32m    634\u001b[0m             \u001b[1;32mif\u001b[0m \u001b[0mlen\u001b[0m\u001b[1;33m(\u001b[0m\u001b[0mlengths\u001b[0m\u001b[1;33m)\u001b[0m \u001b[1;33m>\u001b[0m \u001b[1;36m1\u001b[0m\u001b[1;33m:\u001b[0m\u001b[1;33m\u001b[0m\u001b[1;33m\u001b[0m\u001b[0m\n\u001b[1;32m--> 635\u001b[1;33m                 \u001b[1;32mraise\u001b[0m \u001b[0mValueError\u001b[0m\u001b[1;33m(\u001b[0m\u001b[1;34m\"All arrays must be of the same length\"\u001b[0m\u001b[1;33m)\u001b[0m\u001b[1;33m\u001b[0m\u001b[1;33m\u001b[0m\u001b[0m\n\u001b[0m\u001b[0;32m    636\u001b[0m \u001b[1;33m\u001b[0m\u001b[0m\n\u001b[0;32m    637\u001b[0m             \u001b[1;32mif\u001b[0m \u001b[0mhave_dicts\u001b[0m\u001b[1;33m:\u001b[0m\u001b[1;33m\u001b[0m\u001b[1;33m\u001b[0m\u001b[0m\n",
      "\u001b[1;31mValueError\u001b[0m: All arrays must be of the same length"
     ]
    }
   ],
   "source": [
    "df=pd.DataFrame({\"NAME\":hostelname,\"DISTANCE\":distancefromcity,\"RATING\":hostelrating,\"REVIEW\":totalreview,\"PRICE\":hostelprice,\"DORMS\":dormsprice,\"PROPERTY\":propertydiscussion})\n",
    "df\n"
   ]
  },
  {
   "cell_type": "code",
   "execution_count": null,
   "id": "0965d3d1",
   "metadata": {},
   "outputs": [],
   "source": []
  }
 ],
 "metadata": {
  "kernelspec": {
   "display_name": "Python 3 (ipykernel)",
   "language": "python",
   "name": "python3"
  },
  "language_info": {
   "codemirror_mode": {
    "name": "ipython",
    "version": 3
   },
   "file_extension": ".py",
   "mimetype": "text/x-python",
   "name": "python",
   "nbconvert_exporter": "python",
   "pygments_lexer": "ipython3",
   "version": "3.9.7"
  }
 },
 "nbformat": 4,
 "nbformat_minor": 5
}
